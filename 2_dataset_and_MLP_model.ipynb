{
  "nbformat": 4,
  "nbformat_minor": 0,
  "metadata": {
    "colab": {
      "name": "2 dataset and  MLP model",
      "provenance": [],
      "toc_visible": true,
      "machine_shape": "hm",
      "authorship_tag": "ABX9TyO0+7SN2MzYEmwhpQpL0Atl",
      "include_colab_link": true
    },
    "kernelspec": {
      "name": "python3",
      "display_name": "Python 3"
    },
    "language_info": {
      "name": "python"
    },
    "accelerator": "GPU",
    "gpuClass": "standard"
  },
  "cells": [
    {
      "cell_type": "markdown",
      "metadata": {
        "id": "view-in-github",
        "colab_type": "text"
      },
      "source": [
        "<a href=\"https://colab.research.google.com/github/indra622/AIAcademy_SpeechRecognition/blob/main/2_dataset_and_MLP_model.ipynb\" target=\"_parent\"><img src=\"https://colab.research.google.com/assets/colab-badge.svg\" alt=\"Open In Colab\"/></a>"
      ]
    },
    {
      "cell_type": "markdown",
      "source": [
        "# 기초 MLP 모델 실습\n"
      ],
      "metadata": {
        "id": "TU_YHyDKJ-AH"
      }
    },
    {
      "cell_type": "markdown",
      "source": [
        "\n",
        "## Torch Dataset\n",
        "\n",
        "git  cloning  : \n",
        "`!git clone https://github.com/Jakobovski/free-spoken-digit-dataset`"
      ],
      "metadata": {
        "id": "Xlo85BdqKav5"
      }
    },
    {
      "cell_type": "code",
      "source": [
        "!git clone https://github.com/Jakobovski/free-spoken-digit-dataset\n"
      ],
      "metadata": {
        "colab": {
          "base_uri": "https://localhost:8080/"
        },
        "id": "TqgNk8I_KTqJ",
        "outputId": "ace19450-cd1a-4c89-d07a-8d86841cb987"
      },
      "execution_count": null,
      "outputs": [
        {
          "output_type": "stream",
          "name": "stdout",
          "text": [
            "fatal: destination path 'free-spoken-digit-dataset' already exists and is not an empty directory.\n"
          ]
        }
      ]
    },
    {
      "cell_type": "code",
      "source": [
        "import torch\n",
        "import torchaudio\n",
        "from pathlib import Path\n"
      ],
      "metadata": {
        "id": "qDzP-KbIKU6O"
      },
      "execution_count": null,
      "outputs": []
    },
    {
      "cell_type": "markdown",
      "source": [
        "## PyTorch Daset Object 개념 \n",
        "`torch.utils.data.Dataset`의 subclass는 `__len__`과 `__getitem__`을 구현하기 위해 필요한 객체이다\n",
        "- `__len__` : 데이터셋의 아이템 수를 반환\n",
        "- `__getitem__`: 샘플과 레이블을 반환\n",
        "\n",
        "\n",
        "[그림]데이터를 직접적으로 가지고 있지 않지만 `__len__` 과 `__getitem__`을 통해 접근가능\n",
        "\n",
        "<img src=\"https://drek4537l1klr.cloudfront.net/stevens2/Figures/CH07_F02_Stevens2_GS.png\" width=400>"
      ],
      "metadata": {
        "id": "Mxj1X6ZEN_Qf"
      }
    },
    {
      "cell_type": "code",
      "source": [
        "from torch.utils.data import Dataset,DataLoader"
      ],
      "metadata": {
        "id": "iiPPEDJzPW4d"
      },
      "execution_count": null,
      "outputs": []
    },
    {
      "cell_type": "markdown",
      "source": [
        "## Dataset Calss 의 형식\n",
        "\n",
        "아래와 같이 3개의 method를 override하여 작성\n",
        "\n",
        "```python\n",
        "class MyCustomDataset(Dataset):\n",
        "    def __init__(self, ...):\n",
        "        # initialize Class\n",
        "        \n",
        "    def __getitem__(self, index):\n",
        "        # return samlpe(data) and label \n",
        "        return (img, label)\n",
        "\n",
        "    def __len__(self):\n",
        "      # of how many examples(images?) you have\n",
        "        return count \n",
        "```"
      ],
      "metadata": {
        "id": "yH61QdqNXqSF"
      }
    },
    {
      "cell_type": "code",
      "source": [
        "class AudioDataset(Dataset):\n",
        "  def __init__(self,dir=\"./free-spoken-digit-dataset/recordings\"):\n",
        "    self.audio_list = list(Path(dir).rglob(\"*.wav\"))\n",
        "\n",
        "  def __len__(self):\n",
        "    return len(self.audio_list)\n",
        "  \n",
        "  def __getitem__(self,idx):\n",
        "    return self.audio_list[idx]"
      ],
      "metadata": {
        "id": "QOdXwYdgLHHa"
      },
      "execution_count": null,
      "outputs": []
    },
    {
      "cell_type": "code",
      "source": [
        "train = AudioDataset()"
      ],
      "metadata": {
        "id": "RQ5i25sIL6vJ"
      },
      "execution_count": null,
      "outputs": []
    },
    {
      "cell_type": "code",
      "source": [
        "train[:10]"
      ],
      "metadata": {
        "colab": {
          "base_uri": "https://localhost:8080/"
        },
        "id": "_0s2mcz-L8ld",
        "outputId": "3ab419b6-82d6-4236-a3ba-627d4c6f127e"
      },
      "execution_count": null,
      "outputs": [
        {
          "output_type": "execute_result",
          "data": {
            "text/plain": [
              "[PosixPath('free-spoken-digit-dataset/recordings/7_theo_28.wav'),\n",
              " PosixPath('free-spoken-digit-dataset/recordings/0_yweweler_7.wav'),\n",
              " PosixPath('free-spoken-digit-dataset/recordings/6_yweweler_47.wav'),\n",
              " PosixPath('free-spoken-digit-dataset/recordings/5_lucas_36.wav'),\n",
              " PosixPath('free-spoken-digit-dataset/recordings/7_jackson_30.wav'),\n",
              " PosixPath('free-spoken-digit-dataset/recordings/7_nicolas_3.wav'),\n",
              " PosixPath('free-spoken-digit-dataset/recordings/3_george_2.wav'),\n",
              " PosixPath('free-spoken-digit-dataset/recordings/0_nicolas_0.wav'),\n",
              " PosixPath('free-spoken-digit-dataset/recordings/8_george_2.wav'),\n",
              " PosixPath('free-spoken-digit-dataset/recordings/8_nicolas_34.wav')]"
            ]
          },
          "metadata": {},
          "execution_count": 13
        }
      ]
    },
    {
      "cell_type": "code",
      "source": [
        "bs=64\n",
        "train_loader = DataLoader(train,batch_size=bs)"
      ],
      "metadata": {
        "id": "zdePnczC7J_0"
      },
      "execution_count": null,
      "outputs": []
    },
    {
      "cell_type": "code",
      "source": [
        "for _ in train_loader:\n",
        "  pass"
      ],
      "metadata": {
        "colab": {
          "base_uri": "https://localhost:8080/",
          "height": 295
        },
        "id": "XHi9XuL-7TaR",
        "outputId": "4ce10884-d105-493c-c3c4-d8e289cfc4fa"
      },
      "execution_count": null,
      "outputs": [
        {
          "output_type": "error",
          "ename": "TypeError",
          "evalue": "ignored",
          "traceback": [
            "\u001b[0;31m---------------------------------------------------------------------------\u001b[0m",
            "\u001b[0;31mTypeError\u001b[0m                                 Traceback (most recent call last)",
            "\u001b[0;32m<ipython-input-15-11be6817b9c8>\u001b[0m in \u001b[0;36m<module>\u001b[0;34m()\u001b[0m\n\u001b[0;32m----> 1\u001b[0;31m \u001b[0;32mfor\u001b[0m \u001b[0m_\u001b[0m \u001b[0;32min\u001b[0m \u001b[0mtrain_loader\u001b[0m\u001b[0;34m:\u001b[0m\u001b[0;34m\u001b[0m\u001b[0;34m\u001b[0m\u001b[0m\n\u001b[0m\u001b[1;32m      2\u001b[0m   \u001b[0;32mpass\u001b[0m\u001b[0;34m\u001b[0m\u001b[0;34m\u001b[0m\u001b[0m\n",
            "\u001b[0;32m/usr/local/lib/python3.7/dist-packages/torch/utils/data/dataloader.py\u001b[0m in \u001b[0;36m__next__\u001b[0;34m(self)\u001b[0m\n\u001b[1;32m    650\u001b[0m                 \u001b[0;31m# TODO(https://github.com/pytorch/pytorch/issues/76750)\u001b[0m\u001b[0;34m\u001b[0m\u001b[0;34m\u001b[0m\u001b[0;34m\u001b[0m\u001b[0m\n\u001b[1;32m    651\u001b[0m                 \u001b[0mself\u001b[0m\u001b[0;34m.\u001b[0m\u001b[0m_reset\u001b[0m\u001b[0;34m(\u001b[0m\u001b[0;34m)\u001b[0m  \u001b[0;31m# type: ignore[call-arg]\u001b[0m\u001b[0;34m\u001b[0m\u001b[0;34m\u001b[0m\u001b[0m\n\u001b[0;32m--> 652\u001b[0;31m             \u001b[0mdata\u001b[0m \u001b[0;34m=\u001b[0m \u001b[0mself\u001b[0m\u001b[0;34m.\u001b[0m\u001b[0m_next_data\u001b[0m\u001b[0;34m(\u001b[0m\u001b[0;34m)\u001b[0m\u001b[0;34m\u001b[0m\u001b[0;34m\u001b[0m\u001b[0m\n\u001b[0m\u001b[1;32m    653\u001b[0m             \u001b[0mself\u001b[0m\u001b[0;34m.\u001b[0m\u001b[0m_num_yielded\u001b[0m \u001b[0;34m+=\u001b[0m \u001b[0;36m1\u001b[0m\u001b[0;34m\u001b[0m\u001b[0;34m\u001b[0m\u001b[0m\n\u001b[1;32m    654\u001b[0m             \u001b[0;32mif\u001b[0m \u001b[0mself\u001b[0m\u001b[0;34m.\u001b[0m\u001b[0m_dataset_kind\u001b[0m \u001b[0;34m==\u001b[0m \u001b[0m_DatasetKind\u001b[0m\u001b[0;34m.\u001b[0m\u001b[0mIterable\u001b[0m \u001b[0;32mand\u001b[0m\u001b[0;31m \u001b[0m\u001b[0;31m\\\u001b[0m\u001b[0;34m\u001b[0m\u001b[0;34m\u001b[0m\u001b[0m\n",
            "\u001b[0;32m/usr/local/lib/python3.7/dist-packages/torch/utils/data/dataloader.py\u001b[0m in \u001b[0;36m_next_data\u001b[0;34m(self)\u001b[0m\n\u001b[1;32m    690\u001b[0m     \u001b[0;32mdef\u001b[0m \u001b[0m_next_data\u001b[0m\u001b[0;34m(\u001b[0m\u001b[0mself\u001b[0m\u001b[0;34m)\u001b[0m\u001b[0;34m:\u001b[0m\u001b[0;34m\u001b[0m\u001b[0;34m\u001b[0m\u001b[0m\n\u001b[1;32m    691\u001b[0m         \u001b[0mindex\u001b[0m \u001b[0;34m=\u001b[0m \u001b[0mself\u001b[0m\u001b[0;34m.\u001b[0m\u001b[0m_next_index\u001b[0m\u001b[0;34m(\u001b[0m\u001b[0;34m)\u001b[0m  \u001b[0;31m# may raise StopIteration\u001b[0m\u001b[0;34m\u001b[0m\u001b[0;34m\u001b[0m\u001b[0m\n\u001b[0;32m--> 692\u001b[0;31m         \u001b[0mdata\u001b[0m \u001b[0;34m=\u001b[0m \u001b[0mself\u001b[0m\u001b[0;34m.\u001b[0m\u001b[0m_dataset_fetcher\u001b[0m\u001b[0;34m.\u001b[0m\u001b[0mfetch\u001b[0m\u001b[0;34m(\u001b[0m\u001b[0mindex\u001b[0m\u001b[0;34m)\u001b[0m  \u001b[0;31m# may raise StopIteration\u001b[0m\u001b[0;34m\u001b[0m\u001b[0;34m\u001b[0m\u001b[0m\n\u001b[0m\u001b[1;32m    693\u001b[0m         \u001b[0;32mif\u001b[0m \u001b[0mself\u001b[0m\u001b[0;34m.\u001b[0m\u001b[0m_pin_memory\u001b[0m\u001b[0;34m:\u001b[0m\u001b[0;34m\u001b[0m\u001b[0;34m\u001b[0m\u001b[0m\n\u001b[1;32m    694\u001b[0m             \u001b[0mdata\u001b[0m \u001b[0;34m=\u001b[0m \u001b[0m_utils\u001b[0m\u001b[0;34m.\u001b[0m\u001b[0mpin_memory\u001b[0m\u001b[0;34m.\u001b[0m\u001b[0mpin_memory\u001b[0m\u001b[0;34m(\u001b[0m\u001b[0mdata\u001b[0m\u001b[0;34m,\u001b[0m \u001b[0mself\u001b[0m\u001b[0;34m.\u001b[0m\u001b[0m_pin_memory_device\u001b[0m\u001b[0;34m)\u001b[0m\u001b[0;34m\u001b[0m\u001b[0;34m\u001b[0m\u001b[0m\n",
            "\u001b[0;32m/usr/local/lib/python3.7/dist-packages/torch/utils/data/_utils/fetch.py\u001b[0m in \u001b[0;36mfetch\u001b[0;34m(self, possibly_batched_index)\u001b[0m\n\u001b[1;32m     50\u001b[0m         \u001b[0;32melse\u001b[0m\u001b[0;34m:\u001b[0m\u001b[0;34m\u001b[0m\u001b[0;34m\u001b[0m\u001b[0m\n\u001b[1;32m     51\u001b[0m             \u001b[0mdata\u001b[0m \u001b[0;34m=\u001b[0m \u001b[0mself\u001b[0m\u001b[0;34m.\u001b[0m\u001b[0mdataset\u001b[0m\u001b[0;34m[\u001b[0m\u001b[0mpossibly_batched_index\u001b[0m\u001b[0;34m]\u001b[0m\u001b[0;34m\u001b[0m\u001b[0;34m\u001b[0m\u001b[0m\n\u001b[0;32m---> 52\u001b[0;31m         \u001b[0;32mreturn\u001b[0m \u001b[0mself\u001b[0m\u001b[0;34m.\u001b[0m\u001b[0mcollate_fn\u001b[0m\u001b[0;34m(\u001b[0m\u001b[0mdata\u001b[0m\u001b[0;34m)\u001b[0m\u001b[0;34m\u001b[0m\u001b[0;34m\u001b[0m\u001b[0m\n\u001b[0m",
            "\u001b[0;32m/usr/local/lib/python3.7/dist-packages/torch/utils/data/_utils/collate.py\u001b[0m in \u001b[0;36mdefault_collate\u001b[0;34m(batch)\u001b[0m\n\u001b[1;32m    181\u001b[0m                 \u001b[0;32mreturn\u001b[0m \u001b[0;34m[\u001b[0m\u001b[0mdefault_collate\u001b[0m\u001b[0;34m(\u001b[0m\u001b[0msamples\u001b[0m\u001b[0;34m)\u001b[0m \u001b[0;32mfor\u001b[0m \u001b[0msamples\u001b[0m \u001b[0;32min\u001b[0m \u001b[0mtransposed\u001b[0m\u001b[0;34m]\u001b[0m\u001b[0;34m\u001b[0m\u001b[0;34m\u001b[0m\u001b[0m\n\u001b[1;32m    182\u001b[0m \u001b[0;34m\u001b[0m\u001b[0m\n\u001b[0;32m--> 183\u001b[0;31m     \u001b[0;32mraise\u001b[0m \u001b[0mTypeError\u001b[0m\u001b[0;34m(\u001b[0m\u001b[0mdefault_collate_err_msg_format\u001b[0m\u001b[0;34m.\u001b[0m\u001b[0mformat\u001b[0m\u001b[0;34m(\u001b[0m\u001b[0melem_type\u001b[0m\u001b[0;34m)\u001b[0m\u001b[0;34m)\u001b[0m\u001b[0;34m\u001b[0m\u001b[0;34m\u001b[0m\u001b[0m\n\u001b[0m",
            "\u001b[0;31mTypeError\u001b[0m: default_collate: batch must contain tensors, numpy arrays, numbers, dicts or lists; found <class 'pathlib.PosixPath'>"
          ]
        }
      ]
    },
    {
      "cell_type": "code",
      "source": [
        "class AudioDataset(Dataset):\n",
        "  def __init__(self,dir=\"./free-spoken-digit-dataset/recordings\"):\n",
        "    self.audio_list = list(Path(dir).rglob(\"*.wav\"))\n",
        "    self.sr=8000\n",
        "    \n",
        "\n",
        "  def __len__(self):\n",
        "    return len(self.audio_list)\n",
        "  \n",
        "  def __getitem__(self,idx):\n",
        "    audio_path = self.audio_list[idx]\n",
        "    y,sr = torchaudio.load(audio_path)\n",
        "    y = y.mean(dim=0)\n",
        "    label =str(audio_path.name).split(\"_\")[0]\n",
        "    return y,label"
      ],
      "metadata": {
        "id": "CYJrDQvFL_ds"
      },
      "execution_count": null,
      "outputs": []
    },
    {
      "cell_type": "code",
      "source": [
        "train = AudioDataset()\n",
        "train[0]"
      ],
      "metadata": {
        "id": "pYdTB0KdMD4t"
      },
      "execution_count": null,
      "outputs": []
    },
    {
      "cell_type": "code",
      "source": [
        "import IPython.display as ipd\n",
        "data,label = train[0]\n",
        "print(label)\n",
        "ipd.Audio(data,rate=train.sr)"
      ],
      "metadata": {
        "id": "OZWGptm876ty"
      },
      "execution_count": null,
      "outputs": []
    },
    {
      "cell_type": "code",
      "source": [
        "train_loader = DataLoader(train,batch_size=bs)"
      ],
      "metadata": {
        "id": "34aHoacXvX2y"
      },
      "execution_count": null,
      "outputs": []
    },
    {
      "cell_type": "code",
      "source": [
        "for batch in train_loader:\n",
        "  print(batch.shape)"
      ],
      "metadata": {
        "id": "vFShVzqu83eh"
      },
      "execution_count": null,
      "outputs": []
    },
    {
      "cell_type": "code",
      "source": [
        ""
      ],
      "metadata": {
        "id": "BdJyBelb8-tp"
      },
      "execution_count": null,
      "outputs": []
    },
    {
      "cell_type": "code",
      "source": [
        "class AudioDataset(Dataset):\n",
        "  def __init__(self,dir=\"./free-spoken-digit-dataset/recordings\"):\n",
        "    self.audio_list = list(Path(dir).rglob(\"*.wav\"))\n",
        "    self.sr=8000\n",
        "  def __len__(self):\n",
        "    return len(self.audio_list)\n",
        "  \n",
        "  def __getitem__(self,idx):\n",
        "    audio_path = self.audio_list[idx]\n",
        "    y,sr = torchaudio.load(audio_path)\n",
        "    padding = torch.zeros(20000)\n",
        "    y = y.mean(dim=0)\n",
        "    padding[:len(y)]=y\n",
        "    label =str(audio_path.name).split(\"_\")[0]\n",
        "    return padding,int(label)"
      ],
      "metadata": {
        "id": "320KfM0p2P9t"
      },
      "execution_count": null,
      "outputs": []
    },
    {
      "cell_type": "code",
      "source": [
        "train = AudioDataset()\n",
        "train[0]"
      ],
      "metadata": {
        "id": "YOEtzVAOvpry"
      },
      "execution_count": null,
      "outputs": []
    },
    {
      "cell_type": "code",
      "source": [
        "\n",
        "train_loader = DataLoader(train,batch_size=bs)"
      ],
      "metadata": {
        "id": "_2dRp6a6w3s_"
      },
      "execution_count": null,
      "outputs": []
    },
    {
      "cell_type": "code",
      "source": [
        "for batch in train_loader:\n",
        "  pass  "
      ],
      "metadata": {
        "id": "mQv4K8Cq9PHl"
      },
      "execution_count": null,
      "outputs": []
    },
    {
      "cell_type": "markdown",
      "source": [
        "# Split Dataset\n",
        "train, valid\n",
        "\n",
        "파일 이름을 이용해서 train/test를 split"
      ],
      "metadata": {
        "id": "mxSWCAhE947b"
      }
    },
    {
      "cell_type": "code",
      "source": [
        "audio_list = list(Path(\"./free-spoken-digit-dataset/recordings\").rglob(\"*.wav\"))\n",
        "print(audio_list[0])\n",
        "print(audio_list[0].stem)\n",
        "print(audio_list[0].stem.split(\"_\")[-1])"
      ],
      "metadata": {
        "id": "TKZCox46_jrG"
      },
      "execution_count": null,
      "outputs": []
    },
    {
      "cell_type": "code",
      "source": [
        ""
      ],
      "metadata": {
        "id": "w0QURl0XDfWA"
      },
      "execution_count": null,
      "outputs": []
    },
    {
      "cell_type": "code",
      "source": [
        "class AudioDataset(Dataset):\n",
        "  def __init__(self,dir=\"./free-spoken-digit-dataset/recordings\",train=True):\n",
        "    self.audio_list = list(Path(dir).rglob(\"*.wav\"))\n",
        "    self.sr=8000\n",
        "    self.train_list,self.test_list = self._split_data()\n",
        "    if train:\n",
        "      self.audio_list = self.train_list\n",
        "    else :\n",
        "      self.audio_list = self.test_list\n",
        "  \n",
        "  def _split_data(self) : \n",
        "    \"\"\"\n",
        "    The test set officially consists of the first 10% of the recordings. \n",
        "    Recordings numbered 0-4 (inclusive) are in the test and 5-49 are in the training set.\n",
        "    \"\"\"\n",
        "    testsplit = ['0','1','2','3','4']\n",
        "    train_list = []\n",
        "    test_list = []\n",
        "    for audio_path in self.audio_list:\n",
        "      \n",
        "      recording_number = audio_path.stem.split(\"_\")[-1] #if \n",
        "      if recording_number in testsplit:\n",
        "        test_list.append(audio_path)\n",
        "      else:\n",
        "        train_list.append(audio_path)\n",
        "    return train_list,test_list\n",
        "\n",
        "\n",
        "  def __len__(self):\n",
        "    return len(self.audio_list)\n",
        "  \n",
        "  def __getitem__(self,idx):\n",
        "    audio_path = self.audio_list[idx]\n",
        "    y,sr = torchaudio.load(audio_path)\n",
        "    padding = torch.zeros(20000)\n",
        "    y = y.mean(dim=0)\n",
        "    padding[:len(y)]=y\n",
        "    padding = padding[:8000]\n",
        "    label =str(audio_path.name).split(\"_\")[0]\n",
        "    return padding,int(label)"
      ],
      "metadata": {
        "id": "D4ziE92p93WI"
      },
      "execution_count": null,
      "outputs": []
    },
    {
      "cell_type": "code",
      "source": [
        "train = AudioDataset(train=True)\n",
        "test = AudioDataset(train=False)"
      ],
      "metadata": {
        "id": "ReYJWvPm_Qaw"
      },
      "execution_count": null,
      "outputs": []
    },
    {
      "cell_type": "code",
      "source": [
        "len(train),len(test)"
      ],
      "metadata": {
        "id": "CbJTNjhJAEuI"
      },
      "execution_count": null,
      "outputs": []
    },
    {
      "cell_type": "code",
      "source": [
        "def valid_model(model,data_loader,device,loss_fn):\n",
        "  val_loss=0\n",
        "  val_acc = 0\n",
        "  model.eval()\n",
        "  with torch.no_grad():\n",
        "    for batch in data_loader:\n",
        "      x,y = batch\n",
        "      x = x.to(device)\n",
        "      y= y.to(device)    \n",
        "      pred = model(x)\n",
        "      loss = loss_fn(pred,y)\n",
        "      val_loss += loss.cpu().item()*len(y)\n",
        "      val_acc +=(torch.argmax(pred.cpu(),dim=-1) == y).sum(float).item()\n",
        "    val_loss /=len(data_loader.dataset)\n",
        "    val_acc /=len(data_loader.dataset)\n",
        "    return val_loss,val_acc"
      ],
      "metadata": {
        "id": "SeznLO_aEiHj"
      },
      "execution_count": null,
      "outputs": []
    },
    {
      "cell_type": "markdown",
      "source": [
        "## Model 정의\n",
        "`torch.nn`을 import\n",
        "\n",
        "`torch.nn.Module` 의 subclass로 절의"
      ],
      "metadata": {
        "id": "pYlho6UlxDlv"
      }
    },
    {
      "cell_type": "code",
      "source": [
        "import torch.nn as nn\n",
        "import torch"
      ],
      "metadata": {
        "id": "0_9bm05mxRLz"
      },
      "execution_count": null,
      "outputs": []
    },
    {
      "cell_type": "code",
      "source": [
        ""
      ],
      "metadata": {
        "id": "iPi4aLe4Ehbt"
      },
      "execution_count": null,
      "outputs": []
    },
    {
      "cell_type": "code",
      "source": [
        "from math import ceil \n",
        "\n",
        "class MyModel(nn.Module):\n",
        "  def __init__(self):\n",
        "    super().__init__()\n",
        "    self.n_mels = 64\n",
        "    self.n_fft = 256\n",
        "    self.hop_length=self.n_fft//2\n",
        "    self.sr = 8000\n",
        "    self.n_frames = ceil(8000/self.hop_length)  \n",
        "     #input size = n_mels*n_frames, 64*79\n",
        "    self.n_classes = 10\n",
        "    self.hidden_dim = 1024\n",
        "    self.mel_converter = torchaudio.transforms.MelSpectrogram(sample_rate=self.sr,\n",
        "                                                              n_fft=self.n_fft,\n",
        "                                                              hop_length=self.hop_length,\n",
        "                                                              n_mels=self.n_mels)\n",
        "    self.db_converter = torchaudio.transforms.AmplitudeToDB()\n",
        "\n",
        "    self.nn_layer = nn.Sequential(\n",
        "                          nn.Linear(self.n_mels*self.n_frames,self.hidden_dim),\n",
        "                          nn.ReLU(),\n",
        "                          nn.Linear(self.hidden_dim,self.hidden_dim),                                   \n",
        "                          nn.ReLU(),\n",
        "                          nn.Linear(self.hidden_dim,self.hidden_dim),                                   \n",
        "                          nn.ReLU(),\n",
        "                          nn.Linear(self.hidden_dim,self.hidden_dim),                                   \n",
        "                          nn.ReLU(),\n",
        "                          nn.Linear(self.hidden_dim,self.n_classes)\n",
        "    )\n",
        "\n",
        "  def forward(self,x):\n",
        "    #print(x.shape)\n",
        "    spec = self.mel_converter(x)\n",
        "    #print(spec.shape)\n",
        "    if spec.dim() >2:\n",
        "      spec = spec.reshape(spec.shape[0],-1)\n",
        "    else :\n",
        "      spec = spec.flatten()\n",
        "    #print(spec.shape)\n",
        "    spec = self.db_converter(spec)\n",
        "    #print(spec.shape)\n",
        "    x = self.nn_layer(spec)\n",
        "    \n",
        "    return x\n",
        "\n",
        "\n",
        "      "
      ],
      "metadata": {
        "id": "okADpKijxKv9"
      },
      "execution_count": null,
      "outputs": []
    },
    {
      "cell_type": "code",
      "source": [
        "model = MyModel()"
      ],
      "metadata": {
        "id": "5jylUmHGyHuI"
      },
      "execution_count": null,
      "outputs": []
    },
    {
      "cell_type": "code",
      "source": [
        "x,label = train[0]\n",
        "out = model(x)"
      ],
      "metadata": {
        "id": "nYoo6c_mzdmh"
      },
      "execution_count": null,
      "outputs": []
    },
    {
      "cell_type": "code",
      "source": [
        "out"
      ],
      "metadata": {
        "id": "9cdmYRXVGXp6"
      },
      "execution_count": null,
      "outputs": []
    },
    {
      "cell_type": "code",
      "source": [
        "out.argmax()"
      ],
      "metadata": {
        "id": "O7_Wx7SGIiPU"
      },
      "execution_count": null,
      "outputs": []
    },
    {
      "cell_type": "code",
      "source": [
        "  probs = torch.softmax(out,dim=-1)\n",
        "  probs"
      ],
      "metadata": {
        "id": "B3ERppKCzuEp"
      },
      "execution_count": null,
      "outputs": []
    },
    {
      "cell_type": "code",
      "source": [
        "probs.sum()"
      ],
      "metadata": {
        "id": "z01BI_rJIuz1"
      },
      "execution_count": null,
      "outputs": []
    },
    {
      "cell_type": "code",
      "source": [
        "bs=16\n",
        "train_loader = DataLoader(train,batch_size=bs,shuffle=True)"
      ],
      "metadata": {
        "id": "XT3uDj3iGUrh"
      },
      "execution_count": null,
      "outputs": []
    },
    {
      "cell_type": "code",
      "source": [
        "batch  = next(iter(train_loader))"
      ],
      "metadata": {
        "id": "Xc8rhJUZGnPs"
      },
      "execution_count": null,
      "outputs": []
    },
    {
      "cell_type": "code",
      "source": [
        "x,y = batch"
      ],
      "metadata": {
        "id": "L6YpRNI8Gp8G"
      },
      "execution_count": null,
      "outputs": []
    },
    {
      "cell_type": "code",
      "source": [
        "y"
      ],
      "metadata": {
        "id": "a3_xYWLXLbDT"
      },
      "execution_count": null,
      "outputs": []
    },
    {
      "cell_type": "code",
      "source": [
        "outs =model(x)"
      ],
      "metadata": {
        "id": "IVPcjhjWGxQs"
      },
      "execution_count": null,
      "outputs": []
    },
    {
      "cell_type": "code",
      "source": [
        "print(outs.shape)\n",
        "print(outs)"
      ],
      "metadata": {
        "id": "0DEPgmFwI8wY"
      },
      "execution_count": null,
      "outputs": []
    },
    {
      "cell_type": "code",
      "source": [
        "outs.argmax(dim=-1)"
      ],
      "metadata": {
        "id": "_MZMOiAIGyHc"
      },
      "execution_count": null,
      "outputs": []
    },
    {
      "cell_type": "markdown",
      "source": [
        "## Train Loop"
      ],
      "metadata": {
        "id": "VwFTq8AjJcxQ"
      }
    },
    {
      "cell_type": "code",
      "source": [
        "from tqdm.auto import tqdm"
      ],
      "metadata": {
        "id": "SS7M-C1PJbjt"
      },
      "execution_count": null,
      "outputs": []
    },
    {
      "cell_type": "code",
      "source": [
        "device = torch.device('cuda') if torch.cuda.is_available() else torch.device('cpu')\n",
        "print(device)"
      ],
      "metadata": {
        "id": "Z4Wul9NKJF-N"
      },
      "execution_count": null,
      "outputs": []
    },
    {
      "cell_type": "code",
      "source": [
        "model = MyModel()\n",
        "xent = nn.CrossEntropyLoss()\n",
        "model\n",
        "\n"
      ],
      "metadata": {
        "id": "Z3qldU57JhUz"
      },
      "execution_count": null,
      "outputs": []
    },
    {
      "cell_type": "code",
      "source": [
        "torch.manual_seed(0)\n",
        "pred = torch.softmax(torch.rand(4,10),dim=-1)\n",
        "pred, pred.argmax(dim=-1)"
      ],
      "metadata": {
        "id": "EuRrEySGN8Fk"
      },
      "execution_count": null,
      "outputs": []
    },
    {
      "cell_type": "code",
      "source": [
        "target= torch.tensor([7,7,6,1])\n",
        "xent(pred,target)\n"
      ],
      "metadata": {
        "id": "nLoUWAdDOSvU"
      },
      "execution_count": null,
      "outputs": []
    },
    {
      "cell_type": "code",
      "source": [
        "pred = torch.zeros(4,10)\n",
        "pred[0,7]=99999\n",
        "pred[1,7]=99999\n",
        "pred[2,6]=99999\n",
        "pred[3,1]=99999\n"
      ],
      "metadata": {
        "id": "Ht-Z1Gz7OjUY"
      },
      "execution_count": null,
      "outputs": []
    },
    {
      "cell_type": "code",
      "source": [
        "print(pred)"
      ],
      "metadata": {
        "id": "v_cfa9VdKBDp"
      },
      "execution_count": null,
      "outputs": []
    },
    {
      "cell_type": "code",
      "source": [
        "softmax_pred=pred.softmax(dim=-1)\n",
        "softmax_pred, pred.argmax(dim=-1)"
      ],
      "metadata": {
        "id": "dOhhGVt_KGtN"
      },
      "execution_count": null,
      "outputs": []
    },
    {
      "cell_type": "code",
      "source": [
        "xent(pred,target)\n"
      ],
      "metadata": {
        "id": "IdyAkq8tO9M4"
      },
      "execution_count": null,
      "outputs": []
    },
    {
      "cell_type": "code",
      "source": [
        "print(next(model.parameters()).device)\n",
        "model.to(device)\n",
        "print(next(model.parameters()).device)"
      ],
      "metadata": {
        "id": "QWZxA5dU-l-m"
      },
      "execution_count": null,
      "outputs": []
    },
    {
      "cell_type": "code",
      "source": [
        "label = []\n",
        "for batch in train_loader:\n",
        "  x,y = batch\n",
        "  label.extend(y.tolist())"
      ],
      "metadata": {
        "id": "tMwweoADLqqs"
      },
      "execution_count": null,
      "outputs": []
    },
    {
      "cell_type": "code",
      "source": [
        "from collections import Counter\n",
        "Counter(label)"
      ],
      "metadata": {
        "id": "CLXFUN0jL0LP"
      },
      "execution_count": null,
      "outputs": []
    },
    {
      "cell_type": "code",
      "source": [
        "def valid_model(model,data_loader,device,loss_fn):\n",
        "  val_loss=0\n",
        "  val_acc = 0\n",
        "  model.eval()\n",
        "  with torch.no_grad():\n",
        "    for batch in data_loader:\n",
        "      x,y = batch\n",
        "      x = x.to(device)\n",
        "      y= y.to(device)    \n",
        "      pred = model(x)\n",
        "      loss = loss_fn(pred,y)\n",
        "      val_loss += loss.cpu().item()*len(y)\n",
        "      val_acc +=(torch.argmax(pred,dim=-1) == y).sum().float().item()\n",
        "    val_loss /=len(data_loader.dataset)\n",
        "    val_acc /=len(data_loader.dataset)\n",
        "  model.train()\n",
        "  return val_loss,val_acc"
      ],
      "metadata": {
        "id": "KKiPtHmPFPRJ"
      },
      "execution_count": null,
      "outputs": []
    },
    {
      "cell_type": "code",
      "source": [
        "num_epochs = 200\n",
        "bs=128\n",
        "losses = []\n",
        "val_losses = []\n",
        "val_accs = []\n",
        "model.to(device)\n",
        "\n",
        "optimizer = torch.optim.SGD(model.parameters(),lr=0.0001)\n",
        "\n",
        "train_loader = DataLoader(train,batch_size=bs,shuffle=True)\n",
        "test_loader = DataLoader(test,batch_size=bs,shuffle=False)\n",
        "\n",
        "loss_fn = nn.CrossEntropyLoss()\n",
        "pbar =  tqdm(range(num_epochs))\n",
        "for epoch in pbar:\n",
        "  #for batch in tqdm(train_loader,leave=False):\n",
        "  for batch in train_loader:\n",
        "    signal,label = batch\n",
        "    signal = signal.to(device)\n",
        "    label = label.to(device)\n",
        "    pred = model(signal)\n",
        "    #pred= pred.argmax(dim=-1)\n",
        "    \n",
        "    #print(pred.device)\n",
        "    loss = loss_fn(pred,label.to(device))\n",
        "    loss.backward()\n",
        "\n",
        "    optimizer.step()\n",
        "    optimizer.zero_grad()\n",
        "    losses.append(loss.item())\n",
        "  val_loss,val_acc = valid_model(model,test_loader,'cuda',loss_fn)\n",
        "  val_losses.append(val_loss)\n",
        "  val_accs.append(val_acc)\n",
        "  pbar.set_postfix({\"train_loss\":loss.item(),\"val_loss\":val_loss,\"val_acc\":val_acc})\n",
        "  \n",
        "  #print(val_losses[-1],val_accs[-1])\n"
      ],
      "metadata": {
        "id": "RIpgrstwJty4"
      },
      "execution_count": null,
      "outputs": []
    },
    {
      "cell_type": "code",
      "source": [
        "import matplotlib.pyplot as plt"
      ],
      "metadata": {
        "id": "LsYBScZ_K8pM"
      },
      "execution_count": null,
      "outputs": []
    },
    {
      "cell_type": "code",
      "source": [
        "plt.plot(losses)\n",
        "plt.show()\n",
        "plt.plot(val_losses)\n",
        "plt.show()\n",
        "plt.plot(val_accs)\n",
        "plt.show()"
      ],
      "metadata": {
        "id": "VP7Ctp-VNakF"
      },
      "execution_count": null,
      "outputs": []
    },
    {
      "cell_type": "code",
      "source": [
        "min(losses)"
      ],
      "metadata": {
        "id": "X2XWizgLNeHR"
      },
      "execution_count": null,
      "outputs": []
    },
    {
      "cell_type": "code",
      "source": [
        "testing_idx = 80\n",
        "model.to('cpu')\n",
        "model.eval()\n",
        "with torch.no_grad() : \n",
        "  x,label =train[testing_idx]\n",
        "  pred = model(x)\n",
        "  \n"
      ],
      "metadata": {
        "id": "zKhzq1-mVRAf"
      },
      "execution_count": null,
      "outputs": []
    },
    {
      "cell_type": "code",
      "source": [
        "torch.argmax(torch.softmax(pred,dim=-1)),label"
      ],
      "metadata": {
        "id": "3lzprgeqZ91F"
      },
      "execution_count": null,
      "outputs": []
    },
    {
      "cell_type": "code",
      "source": [
        ""
      ],
      "metadata": {
        "id": "EqG0yhSQaGsy"
      },
      "execution_count": null,
      "outputs": []
    }
  ]
}