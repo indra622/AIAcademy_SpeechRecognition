{
  "nbformat": 4,
  "nbformat_minor": 0,
  "metadata": {
    "colab": {
      "name": "k2_playground.ipynb",
      "provenance": [],
      "collapsed_sections": [
        "qyeP2SKY1HFL",
        "kxyhd-oZ3SXz",
        "n0GaLACZ3UYj"
      ],
      "toc_visible": true,
      "authorship_tag": "ABX9TyNZ842G0BHIDcJ0pZI37OAL",
      "include_colab_link": true
    },
    "kernelspec": {
      "name": "python3",
      "display_name": "Python 3"
    },
    "language_info": {
      "name": "python"
    },
    "gpuClass": "standard"
  },
  "cells": [
    {
      "cell_type": "markdown",
      "metadata": {
        "id": "view-in-github",
        "colab_type": "text"
      },
      "source": [
        "<a href=\"https://colab.research.google.com/github/indra622/AIAcademy_SpeechRecognition/blob/main/5thExercise/k2_playground.ipynb\" target=\"_parent\"><img src=\"https://colab.research.google.com/assets/colab-badge.svg\" alt=\"Open In Colab\"/></a>"
      ]
    },
    {
      "cell_type": "markdown",
      "source": [
        "# Nemo+K2 ASR Demo\n",
        "\n",
        "materials\n",
        "\n",
        "logits, indexed words, indexed tokens and lexicon from Nemo\n",
        "Arpa format from n-gram models\n"
      ],
      "metadata": {
        "id": "PbpP6YXrtR4a"
      }
    },
    {
      "cell_type": "markdown",
      "source": [
        "# K2 installation\n",
        "\n",
        "k2 runs stably in torch 1.7.1 in Colab"
      ],
      "metadata": {
        "id": "MLZJsgNz_92N"
      }
    },
    {
      "cell_type": "code",
      "execution_count": null,
      "metadata": {
        "colab": {
          "base_uri": "https://localhost:8080/"
        },
        "id": "HnDNN-YcaKOH",
        "outputId": "4efea4c6-3e17-42bc-8981-e54cbb492fdd"
      },
      "outputs": [
        {
          "output_type": "stream",
          "name": "stdout",
          "text": [
            "Looking in indexes: https://pypi.org/simple, https://us-python.pkg.dev/colab-wheels/public/simple/\n",
            "Collecting torch==1.7.1\n",
            "  Downloading torch-1.7.1-cp37-cp37m-manylinux1_x86_64.whl (776.8 MB)\n",
            "\u001b[K     |████████████████████████████████| 776.8 MB 11 kB/s \n",
            "\u001b[?25hRequirement already satisfied: numpy in /usr/local/lib/python3.7/dist-packages (from torch==1.7.1) (1.21.6)\n",
            "Requirement already satisfied: typing-extensions in /usr/local/lib/python3.7/dist-packages (from torch==1.7.1) (4.1.1)\n",
            "Installing collected packages: torch\n",
            "  Attempting uninstall: torch\n",
            "    Found existing installation: torch 1.12.0+cu113\n",
            "    Uninstalling torch-1.12.0+cu113:\n",
            "      Successfully uninstalled torch-1.12.0+cu113\n",
            "\u001b[31mERROR: pip's dependency resolver does not currently take into account all the packages that are installed. This behaviour is the source of the following dependency conflicts.\n",
            "torchvision 0.13.0+cu113 requires torch==1.12.0, but you have torch 1.7.1 which is incompatible.\n",
            "torchtext 0.13.0 requires torch==1.12.0, but you have torch 1.7.1 which is incompatible.\n",
            "torchaudio 0.12.0+cu113 requires torch==1.12.0, but you have torch 1.7.1 which is incompatible.\u001b[0m\n",
            "Successfully installed torch-1.7.1\n",
            "Looking in indexes: https://pypi.org/simple, https://us-python.pkg.dev/colab-wheels/public/simple/\n",
            "Looking in links: https://k2-fsa.org/nightly/\n",
            "Collecting k2==1.17.dev20220710+cuda10.2.torch1.7.1\n",
            "  Downloading https://k2-fsa.org/nightly/whl/k2-1.17.dev20220710%2Bcuda10.2.torch1.7.1-cp37-cp37m-linux_x86_64.whl (75.9 MB)\n",
            "\u001b[K     |████████████████████████████████| 75.9 MB 91 kB/s \n",
            "\u001b[?25hRequirement already satisfied: graphviz in /usr/local/lib/python3.7/dist-packages (from k2==1.17.dev20220710+cuda10.2.torch1.7.1) (0.10.1)\n",
            "Requirement already satisfied: torch==1.7.1 in /usr/local/lib/python3.7/dist-packages (from k2==1.17.dev20220710+cuda10.2.torch1.7.1) (1.7.1)\n",
            "Requirement already satisfied: typing-extensions in /usr/local/lib/python3.7/dist-packages (from torch==1.7.1->k2==1.17.dev20220710+cuda10.2.torch1.7.1) (4.1.1)\n",
            "Requirement already satisfied: numpy in /usr/local/lib/python3.7/dist-packages (from torch==1.7.1->k2==1.17.dev20220710+cuda10.2.torch1.7.1) (1.21.6)\n",
            "Installing collected packages: k2\n",
            "Successfully installed k2-1.17.dev20220710+cuda10.2.torch1.7.1\n"
          ]
        }
      ],
      "source": [
        "!pip install torch==1.7.1\n",
        "!pip install k2==1.17.dev20220710+cuda10.2.torch1.7.1 -f https://k2-fsa.org/nightly/"
      ]
    },
    {
      "cell_type": "code",
      "source": [
        "import k2, torch"
      ],
      "metadata": {
        "id": "7ICax8qboPIn"
      },
      "execution_count": null,
      "outputs": []
    },
    {
      "cell_type": "code",
      "source": [
        "import k2.version\n",
        "k2.version.version.main()"
      ],
      "metadata": {
        "colab": {
          "base_uri": "https://localhost:8080/"
        },
        "id": "3S_oVGdQAaWq",
        "outputId": "14509ac4-cfc6-46ab-8edf-35e7db146fc6"
      },
      "execution_count": null,
      "outputs": [
        {
          "output_type": "stream",
          "name": "stdout",
          "text": [
            "Collecting environment information...\n",
            "\n",
            "k2 version: 1.17\n",
            "Build type: Release\n",
            "Git SHA1: 6ccbe9c28f69aa3d897a4bedc7d879fe0ec7f5f3\n",
            "Git date: Sat Jul 9 19:23:57 2022\n",
            "Cuda used to build k2: 10.2\n",
            "cuDNN used to build k2: 8.0.2\n",
            "Python version used to build k2: 3.7\n",
            "OS used to build k2: Ubuntu 18.04.6 LTS\n",
            "CMake version: 3.23.2\n",
            "GCC version: 7.5.0\n",
            "CMAKE_CUDA_FLAGS:   -lineinfo --expt-extended-lambda -use_fast_math -Xptxas=-w  --expt-extended-lambda -gencode arch=compute_35,code=sm_35  -lineinfo --expt-extended-lambda -use_fast_math -Xptxas=-w  --expt-extended-lambda -gencode arch=compute_50,code=sm_50  -lineinfo --expt-extended-lambda -use_fast_math -Xptxas=-w  --expt-extended-lambda -gencode arch=compute_60,code=sm_60  -lineinfo --expt-extended-lambda -use_fast_math -Xptxas=-w  --expt-extended-lambda -gencode arch=compute_61,code=sm_61  -lineinfo --expt-extended-lambda -use_fast_math -Xptxas=-w  --expt-extended-lambda -gencode arch=compute_70,code=sm_70  -lineinfo --expt-extended-lambda -use_fast_math -Xptxas=-w  --expt-extended-lambda -gencode arch=compute_75,code=sm_75 -D_GLIBCXX_USE_CXX11_ABI=0 --compiler-options -Wall  --compiler-options -Wno-strict-overflow  --compiler-options -Wno-unknown-pragmas \n",
            "CMAKE_CXX_FLAGS:  -D_GLIBCXX_USE_CXX11_ABI=0 -Wno-unused-variable  -Wno-strict-overflow \n",
            "PyTorch version used to build k2: 1.7.1\n",
            "PyTorch is using Cuda: 10.2\n",
            "NVTX enabled: True\n",
            "With CUDA: True\n",
            "Disable debug: True\n",
            "Sync kernels : False\n",
            "Disable checks: False\n",
            "Max cpu memory allocate: 214748364800 bytes (or 200.0 GB)\n",
            "k2 abort: False\n",
            "__file__: /usr/local/lib/python3.7/dist-packages/k2/version/version.py\n",
            "_k2.__file__: /usr/local/lib/python3.7/dist-packages/_k2.cpython-37m-x86_64-linux-gnu.so\n",
            "    \n"
          ]
        }
      ]
    },
    {
      "cell_type": "markdown",
      "source": [
        "# WFSA/WFST Basics"
      ],
      "metadata": {
        "id": "41ISeYBjAB4l"
      }
    },
    {
      "cell_type": "markdown",
      "source": [
        "## WFSA creation"
      ],
      "metadata": {
        "id": "df18aGu2ALWr"
      }
    },
    {
      "cell_type": "code",
      "source": [
        "s = '''\n",
        "0 1 1 1 \n",
        "0 1 3 5\n",
        "0 2 1 3\n",
        "0 2 2 4\n",
        "0 2 3 7\n",
        "0 2 4 8\n",
        "0 2 5 9\n",
        "1 3 6 9\n",
        "1 3 5 8\n",
        "2 3 6 12\n",
        "3 4 -1 0\n",
        "4\n",
        "'''\n",
        "\n",
        "a_fsa = k2.Fsa.from_str(s)\n",
        "sym_str = '''\n",
        " <eps> 0\n",
        " a 1\n",
        " b 2\n",
        " c 3\n",
        " d 4\n",
        " e 5\n",
        " f 6\n",
        "'''\n",
        "a_fsa.symbols = k2.SymbolTable.from_str(sym_str)\n",
        "a_fsa.labels_sym = k2.SymbolTable.from_str(sym_str)\n",
        "\n",
        "a_fsa = k2.arc_sort(a_fsa)\n",
        "a_fsa.draw('a_fsa.svg')"
      ],
      "metadata": {
        "colab": {
          "base_uri": "https://localhost:8080/",
          "height": 286
        },
        "id": "wDp5Y9ZBYhld",
        "outputId": "520bbb0c-8576-4ae9-f64a-a0c620e0e96e"
      },
      "execution_count": null,
      "outputs": [
        {
          "output_type": "execute_result",
          "data": {
            "text/plain": [
              "<graphviz.dot.Digraph at 0x7fc1dcb43890>"
            ],
            "image/svg+xml": "<?xml version=\"1.0\" encoding=\"UTF-8\" standalone=\"no\"?>\n<!DOCTYPE svg PUBLIC \"-//W3C//DTD SVG 1.1//EN\"\n \"http://www.w3.org/Graphics/SVG/1.1/DTD/svg11.dtd\">\n<!-- Generated by graphviz version 2.40.1 (20161225.0304)\n -->\n<!-- Title: WFSA Pages: 1 -->\n<svg width=\"317pt\" height=\"199pt\"\n viewBox=\"0.00 0.00 317.00 199.32\" xmlns=\"http://www.w3.org/2000/svg\" xmlns:xlink=\"http://www.w3.org/1999/xlink\">\n<g id=\"graph0\" class=\"graph\" transform=\"scale(1 1) rotate(0) translate(4 195.3243)\">\n<title>WFSA</title>\n<polygon fill=\"#ffffff\" stroke=\"transparent\" points=\"-4,4 -4,-195.3243 313,-195.3243 313,4 -4,4\"/>\n<!-- 0 -->\n<g id=\"node1\" class=\"node\">\n<title>0</title>\n<ellipse fill=\"none\" stroke=\"#000000\" stroke-width=\"2\" cx=\"18\" cy=\"-81.3243\" rx=\"18\" ry=\"18\"/>\n<text text-anchor=\"middle\" x=\"18\" y=\"-77.6243\" font-family=\"Times,serif\" font-size=\"14.00\" fill=\"#000000\">0</text>\n</g>\n<!-- 1 -->\n<g id=\"node2\" class=\"node\">\n<title>1</title>\n<ellipse fill=\"none\" stroke=\"#000000\" stroke-width=\"2\" cx=\"103\" cy=\"-157.3243\" rx=\"18\" ry=\"18\"/>\n<text text-anchor=\"middle\" x=\"103\" y=\"-153.6243\" font-family=\"Times,serif\" font-size=\"14.00\" fill=\"#000000\">1</text>\n</g>\n<!-- 0&#45;&gt;1 -->\n<g id=\"edge1\" class=\"edge\">\n<title>0&#45;&gt;1</title>\n<path fill=\"none\" stroke=\"#000000\" d=\"M21.8841,-99.3216C27.5196,-123.5499 38.6493,-164.6332 51,-173.3243 59.3426,-179.1948 69.901,-177.2645 79.3208,-173.0704\"/>\n<polygon fill=\"#000000\" stroke=\"#000000\" points=\"81.0525,-176.1136 88.2369,-168.3267 77.7646,-169.9338 81.0525,-176.1136\"/>\n<text text-anchor=\"middle\" x=\"60.5\" y=\"-180.1243\" font-family=\"Times,serif\" font-size=\"14.00\" fill=\"#000000\">a/1</text>\n</g>\n<!-- 0&#45;&gt;1 -->\n<g id=\"edge4\" class=\"edge\">\n<title>0&#45;&gt;1</title>\n<path fill=\"none\" stroke=\"#000000\" d=\"M29.2089,-95.7292C35.2898,-103.1413 43.1524,-112.1097 51,-119.3243 59.7331,-127.3529 70.1588,-135.2534 79.3742,-141.7532\"/>\n<polygon fill=\"#000000\" stroke=\"#000000\" points=\"77.5222,-144.7274 87.744,-147.5141 81.4911,-138.9613 77.5222,-144.7274\"/>\n<text text-anchor=\"middle\" x=\"60.5\" y=\"-137.1243\" font-family=\"Times,serif\" font-size=\"14.00\" fill=\"#000000\">c/5</text>\n</g>\n<!-- 2 -->\n<g id=\"node3\" class=\"node\">\n<title>2</title>\n<ellipse fill=\"none\" stroke=\"#000000\" stroke-width=\"2\" cx=\"103\" cy=\"-52.3243\" rx=\"18\" ry=\"18\"/>\n<text text-anchor=\"middle\" x=\"103\" y=\"-48.6243\" font-family=\"Times,serif\" font-size=\"14.00\" fill=\"#000000\">2</text>\n</g>\n<!-- 0&#45;&gt;2 -->\n<g id=\"edge2\" class=\"edge\">\n<title>0&#45;&gt;2</title>\n<path fill=\"none\" stroke=\"#000000\" d=\"M33.0887,-91.8844C43.7585,-97.956 58.2044,-103.3016 70,-97.3243 78.3232,-93.1066 85.0545,-85.6931 90.2138,-78.0854\"/>\n<polygon fill=\"#000000\" stroke=\"#000000\" points=\"93.3784,-79.6153 95.5492,-69.2453 87.3854,-75.9982 93.3784,-79.6153\"/>\n<text text-anchor=\"middle\" x=\"60.5\" y=\"-104.1243\" font-family=\"Times,serif\" font-size=\"14.00\" fill=\"#000000\">a/3</text>\n</g>\n<!-- 0&#45;&gt;2 -->\n<g id=\"edge3\" class=\"edge\">\n<title>0&#45;&gt;2</title>\n<path fill=\"none\" stroke=\"#000000\" d=\"M35.201,-75.4557C46.9526,-71.4463 62.7617,-66.0526 76.1579,-61.4822\"/>\n<polygon fill=\"#000000\" stroke=\"#000000\" points=\"77.4904,-64.7257 85.8246,-58.1841 75.2301,-58.1007 77.4904,-64.7257\"/>\n<text text-anchor=\"middle\" x=\"60.5\" y=\"-74.1243\" font-family=\"Times,serif\" font-size=\"14.00\" fill=\"#000000\">b/4</text>\n</g>\n<!-- 0&#45;&gt;2 -->\n<g id=\"edge5\" class=\"edge\">\n<title>0&#45;&gt;2</title>\n<path fill=\"none\" stroke=\"#000000\" d=\"M27.5975,-65.8573C33.3334,-58.1362 41.3766,-49.5576 51,-45.3243 58.7388,-41.9199 67.7012,-41.9042 75.9827,-43.2674\"/>\n<polygon fill=\"#000000\" stroke=\"#000000\" points=\"75.4332,-46.7328 85.9652,-45.5804 77.0134,-39.9134 75.4332,-46.7328\"/>\n<text text-anchor=\"middle\" x=\"60.5\" y=\"-49.1243\" font-family=\"Times,serif\" font-size=\"14.00\" fill=\"#000000\">c/7</text>\n</g>\n<!-- 0&#45;&gt;2 -->\n<g id=\"edge6\" class=\"edge\">\n<title>0&#45;&gt;2</title>\n<path fill=\"none\" stroke=\"#000000\" d=\"M22.8362,-63.9629C27.6002,-50.5074 36.339,-32.7771 51,-24.3243 61.5482,-18.2426 73.4995,-23.828 83.2825,-31.5651\"/>\n<polygon fill=\"#000000\" stroke=\"#000000\" points=\"81.1167,-34.3231 90.9118,-38.3614 85.7729,-29.0962 81.1167,-34.3231\"/>\n<text text-anchor=\"middle\" x=\"60.5\" y=\"-28.1243\" font-family=\"Times,serif\" font-size=\"14.00\" fill=\"#000000\">d/8</text>\n</g>\n<!-- 0&#45;&gt;2 -->\n<g id=\"edge7\" class=\"edge\">\n<title>0&#45;&gt;2</title>\n<path fill=\"none\" stroke=\"#000000\" d=\"M19.9914,-63.1637C23.1062,-44.5661 31.022,-16.5644 51,-3.3243 58.0389,1.3407 62.5454,.6428 70,-3.3243 79.4077,-8.3307 86.615,-17.3455 91.8583,-26.2899\"/>\n<polygon fill=\"#000000\" stroke=\"#000000\" points=\"88.8911,-28.1692 96.6213,-35.4145 95.0966,-24.93 88.8911,-28.1692\"/>\n<text text-anchor=\"middle\" x=\"60.5\" y=\"-7.1243\" font-family=\"Times,serif\" font-size=\"14.00\" fill=\"#000000\">e/9</text>\n</g>\n<!-- 3 -->\n<g id=\"node4\" class=\"node\">\n<title>3</title>\n<ellipse fill=\"none\" stroke=\"#000000\" stroke-width=\"2\" cx=\"193\" cy=\"-119.3243\" rx=\"18\" ry=\"18\"/>\n<text text-anchor=\"middle\" x=\"193\" y=\"-115.6243\" font-family=\"Times,serif\" font-size=\"14.00\" fill=\"#000000\">3</text>\n</g>\n<!-- 1&#45;&gt;3 -->\n<g id=\"edge8\" class=\"edge\">\n<title>1&#45;&gt;3</title>\n<path fill=\"none\" stroke=\"#000000\" d=\"M120.11,-151.1438C131.5091,-146.923 146.7691,-141.0733 160,-135.3243 162.4873,-134.2435 165.0605,-133.0794 167.6221,-131.8897\"/>\n<polygon fill=\"#000000\" stroke=\"#000000\" points=\"169.1561,-135.0358 176.6749,-127.5714 166.1423,-128.7178 169.1561,-135.0358\"/>\n<text text-anchor=\"middle\" x=\"148\" y=\"-148.1243\" font-family=\"Times,serif\" font-size=\"14.00\" fill=\"#000000\">e/8</text>\n</g>\n<!-- 1&#45;&gt;3 -->\n<g id=\"edge9\" class=\"edge\">\n<title>1&#45;&gt;3</title>\n<path fill=\"none\" stroke=\"#000000\" d=\"M111.3272,-141.0327C116.9438,-131.9467 125.2863,-121.454 136,-116.3243 145.058,-111.9873 155.8771,-111.5543 165.6435,-112.6139\"/>\n<polygon fill=\"#000000\" stroke=\"#000000\" points=\"165.2649,-116.098 175.6948,-114.2355 166.3799,-109.1874 165.2649,-116.098\"/>\n<text text-anchor=\"middle\" x=\"148\" y=\"-120.1243\" font-family=\"Times,serif\" font-size=\"14.00\" fill=\"#000000\">f/9</text>\n</g>\n<!-- 2&#45;&gt;3 -->\n<g id=\"edge10\" class=\"edge\">\n<title>2&#45;&gt;3</title>\n<path fill=\"none\" stroke=\"#000000\" d=\"M118.219,-62.5535C129.8275,-70.4638 146.1288,-81.8052 160,-92.3243 163.6827,-95.117 167.5321,-98.1536 171.2477,-101.1489\"/>\n<polygon fill=\"#000000\" stroke=\"#000000\" points=\"169.0944,-103.9093 179.0515,-107.5296 173.5253,-98.4902 169.0944,-103.9093\"/>\n<text text-anchor=\"middle\" x=\"148\" y=\"-96.1243\" font-family=\"Times,serif\" font-size=\"14.00\" fill=\"#000000\">f/12</text>\n</g>\n<!-- 4 -->\n<g id=\"node5\" class=\"node\">\n<title>4</title>\n<ellipse fill=\"none\" stroke=\"#000000\" stroke-width=\"2\" cx=\"287\" cy=\"-119.3243\" rx=\"18\" ry=\"18\"/>\n<ellipse fill=\"none\" stroke=\"#000000\" stroke-width=\"2\" cx=\"287\" cy=\"-119.3243\" rx=\"22\" ry=\"22\"/>\n<text text-anchor=\"middle\" x=\"287\" y=\"-115.6243\" font-family=\"Times,serif\" font-size=\"14.00\" fill=\"#000000\">4</text>\n</g>\n<!-- 3&#45;&gt;4 -->\n<g id=\"edge11\" class=\"edge\">\n<title>3&#45;&gt;4</title>\n<path fill=\"none\" stroke=\"#000000\" d=\"M211.1241,-119.3243C223.4881,-119.3243 240.2047,-119.3243 254.8005,-119.3243\"/>\n<polygon fill=\"#000000\" stroke=\"#000000\" points=\"254.9612,-122.8244 264.9612,-119.3243 254.9611,-115.8244 254.9612,-122.8244\"/>\n<text text-anchor=\"middle\" x=\"238\" y=\"-123.1243\" font-family=\"Times,serif\" font-size=\"14.00\" fill=\"#000000\">&#45;1/0</text>\n</g>\n</g>\n</svg>\n"
          },
          "metadata": {},
          "execution_count": 4
        }
      ]
    },
    {
      "cell_type": "markdown",
      "source": [
        "## WFST creation"
      ],
      "metadata": {
        "id": "quwc3MPeAOAX"
      }
    },
    {
      "cell_type": "code",
      "source": [
        "s = '''\n",
        "0 1 1 1 1 \n",
        "0 1 3 3 5\n",
        "0 2 1 1 3\n",
        "0 2 2 2 4\n",
        "0 2 3 3 7\n",
        "0 2 4 4 8\n",
        "0 2 5 5 9\n",
        "1 3 6 6 9\n",
        "1 3 5 5 8\n",
        "2 3 6 6 12\n",
        "3 4 -1 -1 0\n",
        "4\n",
        "'''\n",
        "\n",
        "#a_fsa = k2.Fsa.from_str(s)\n",
        "a_fst = k2.Fsa.from_str(s, acceptor=False)\n",
        "sym_str = '''\n",
        " <eps> 0\n",
        " a 1\n",
        " b 2\n",
        " c 3\n",
        " d 4\n",
        " e 5\n",
        " f 6\n",
        "'''\n",
        "#a_fsa.symbols = k2.SymbolTable.from_str(sym_str)\n",
        "#a_fsa.labels_sym = k2.SymbolTable.from_str(sym_str)\n",
        "a_fst.symbols = k2.SymbolTable.from_str(sym_str)\n",
        "a_fst.labels_sym = k2.SymbolTable.from_str(sym_str)\n",
        "a_fst.aux_labels_sym = k2.SymbolTable.from_str(sym_str)\n",
        "a_fst = k2.arc_sort(a_fst)\n",
        "a_fst.draw('a_fst.svg')"
      ],
      "metadata": {
        "colab": {
          "base_uri": "https://localhost:8080/",
          "height": 296
        },
        "id": "gFEtAfPtZkxY",
        "outputId": "2ea390a2-ed53-4fa9-9793-71c9677798f2"
      },
      "execution_count": null,
      "outputs": [
        {
          "output_type": "execute_result",
          "data": {
            "text/plain": [
              "<graphviz.dot.Digraph at 0x7fc1dcae5ed0>"
            ],
            "image/svg+xml": "<?xml version=\"1.0\" encoding=\"UTF-8\" standalone=\"no\"?>\n<!DOCTYPE svg PUBLIC \"-//W3C//DTD SVG 1.1//EN\"\n \"http://www.w3.org/Graphics/SVG/1.1/DTD/svg11.dtd\">\n<!-- Generated by graphviz version 2.40.1 (20161225.0304)\n -->\n<!-- Title: WFST Pages: 1 -->\n<svg width=\"353pt\" height=\"207pt\"\n viewBox=\"0.00 0.00 353.00 206.53\" xmlns=\"http://www.w3.org/2000/svg\" xmlns:xlink=\"http://www.w3.org/1999/xlink\">\n<g id=\"graph0\" class=\"graph\" transform=\"scale(1 1) rotate(0) translate(4 202.5284)\">\n<title>WFST</title>\n<polygon fill=\"#ffffff\" stroke=\"transparent\" points=\"-4,4 -4,-202.5284 349,-202.5284 349,4 -4,4\"/>\n<!-- 0 -->\n<g id=\"node1\" class=\"node\">\n<title>0</title>\n<ellipse fill=\"none\" stroke=\"#000000\" stroke-width=\"2\" cx=\"18\" cy=\"-87.5284\" rx=\"18\" ry=\"18\"/>\n<text text-anchor=\"middle\" x=\"18\" y=\"-83.8284\" font-family=\"Times,serif\" font-size=\"14.00\" fill=\"#000000\">0</text>\n</g>\n<!-- 1 -->\n<g id=\"node2\" class=\"node\">\n<title>1</title>\n<ellipse fill=\"none\" stroke=\"#000000\" stroke-width=\"2\" cx=\"115\" cy=\"-163.5284\" rx=\"18\" ry=\"18\"/>\n<text text-anchor=\"middle\" x=\"115\" y=\"-159.8284\" font-family=\"Times,serif\" font-size=\"14.00\" fill=\"#000000\">1</text>\n</g>\n<!-- 0&#45;&gt;1 -->\n<g id=\"edge1\" class=\"edge\">\n<title>0&#45;&gt;1</title>\n<path fill=\"none\" stroke=\"#000000\" d=\"M21.8841,-105.5257C27.5196,-129.7541 38.6493,-170.8374 51,-179.5284 62.6437,-187.722 78.0705,-184.1852 90.8607,-178.3784\"/>\n<polygon fill=\"#000000\" stroke=\"#000000\" points=\"92.7391,-181.3477 100.0212,-173.6521 89.5295,-175.1268 92.7391,-181.3477\"/>\n<text text-anchor=\"middle\" x=\"66.5\" y=\"-187.3284\" font-family=\"Times,serif\" font-size=\"14.00\" fill=\"#000000\">a:a/1</text>\n</g>\n<!-- 0&#45;&gt;1 -->\n<g id=\"edge4\" class=\"edge\">\n<title>0&#45;&gt;1</title>\n<path fill=\"none\" stroke=\"#000000\" d=\"M28.5433,-102.3155C34.5563,-110.1033 42.5624,-119.4739 51,-126.5284 62.5763,-136.2072 77.0183,-144.7998 89.2523,-151.2625\"/>\n<polygon fill=\"#000000\" stroke=\"#000000\" points=\"87.994,-154.5494 98.4933,-155.9689 91.1708,-148.3118 87.994,-154.5494\"/>\n<text text-anchor=\"middle\" x=\"66.5\" y=\"-150.3284\" font-family=\"Times,serif\" font-size=\"14.00\" fill=\"#000000\">c:c/5</text>\n</g>\n<!-- 2 -->\n<g id=\"node3\" class=\"node\">\n<title>2</title>\n<ellipse fill=\"none\" stroke=\"#000000\" stroke-width=\"2\" cx=\"115\" cy=\"-58.5284\" rx=\"18\" ry=\"18\"/>\n<text text-anchor=\"middle\" x=\"115\" y=\"-54.8284\" font-family=\"Times,serif\" font-size=\"14.00\" fill=\"#000000\">2</text>\n</g>\n<!-- 0&#45;&gt;2 -->\n<g id=\"edge2\" class=\"edge\">\n<title>0&#45;&gt;2</title>\n<path fill=\"none\" stroke=\"#000000\" d=\"M33.4169,-97.2009C46.8204,-104.2814 66.4713,-111.3974 82,-103.5284 90.3232,-99.3108 97.0545,-91.8972 102.2138,-84.2896\"/>\n<polygon fill=\"#000000\" stroke=\"#000000\" points=\"105.3784,-85.8195 107.5492,-75.4494 99.3854,-82.2024 105.3784,-85.8195\"/>\n<text text-anchor=\"middle\" x=\"66.5\" y=\"-111.3284\" font-family=\"Times,serif\" font-size=\"14.00\" fill=\"#000000\">a:a/3</text>\n</g>\n<!-- 0&#45;&gt;2 -->\n<g id=\"edge3\" class=\"edge\">\n<title>0&#45;&gt;2</title>\n<path fill=\"none\" stroke=\"#000000\" d=\"M35.3417,-82.3438C49.8727,-77.9995 70.8748,-71.7205 87.6661,-66.7004\"/>\n<polygon fill=\"#000000\" stroke=\"#000000\" points=\"88.903,-69.9838 97.4814,-63.7659 86.8979,-63.2771 88.903,-69.9838\"/>\n<text text-anchor=\"middle\" x=\"66.5\" y=\"-81.3284\" font-family=\"Times,serif\" font-size=\"14.00\" fill=\"#000000\">b:b/4</text>\n</g>\n<!-- 0&#45;&gt;2 -->\n<g id=\"edge5\" class=\"edge\">\n<title>0&#45;&gt;2</title>\n<path fill=\"none\" stroke=\"#000000\" d=\"M27.23,-72.0255C32.954,-63.9954 41.1028,-54.963 51,-50.5284 62.6182,-45.3228 76.5403,-46.319 88.4282,-49.035\"/>\n<polygon fill=\"#000000\" stroke=\"#000000\" points=\"87.6711,-52.457 98.2424,-51.752 89.5387,-45.7108 87.6711,-52.457\"/>\n<text text-anchor=\"middle\" x=\"66.5\" y=\"-54.3284\" font-family=\"Times,serif\" font-size=\"14.00\" fill=\"#000000\">c:c/7</text>\n</g>\n<!-- 0&#45;&gt;2 -->\n<g id=\"edge6\" class=\"edge\">\n<title>0&#45;&gt;2</title>\n<path fill=\"none\" stroke=\"#000000\" d=\"M22.5702,-69.8595C27.2112,-55.9105 35.9155,-37.375 51,-28.5284 62.8847,-21.5584 69.1492,-23.5602 82,-28.5284 87.1049,-30.502 91.9067,-33.673 96.1836,-37.2297\"/>\n<polygon fill=\"#000000\" stroke=\"#000000\" points=\"94.0294,-40.0094 103.7028,-44.3311 98.8357,-34.9203 94.0294,-40.0094\"/>\n<text text-anchor=\"middle\" x=\"66.5\" y=\"-32.3284\" font-family=\"Times,serif\" font-size=\"14.00\" fill=\"#000000\">d:d/8</text>\n</g>\n<!-- 0&#45;&gt;2 -->\n<g id=\"edge7\" class=\"edge\">\n<title>0&#45;&gt;2</title>\n<path fill=\"none\" stroke=\"#000000\" d=\"M19.5412,-69.537C22.2822,-50.0331 29.891,-19.7876 51,-5.5284 62.417,2.1838 69.955,1.1608 82,-5.5284 92.4473,-11.3304 100.0166,-21.965 105.2491,-32.1936\"/>\n<polygon fill=\"#000000\" stroke=\"#000000\" points=\"102.0788,-33.677 109.4131,-41.3228 108.4476,-30.772 102.0788,-33.677\"/>\n<text text-anchor=\"middle\" x=\"66.5\" y=\"-9.3284\" font-family=\"Times,serif\" font-size=\"14.00\" fill=\"#000000\">e:e/9</text>\n</g>\n<!-- 3 -->\n<g id=\"node4\" class=\"node\">\n<title>3</title>\n<ellipse fill=\"none\" stroke=\"#000000\" stroke-width=\"2\" cx=\"213\" cy=\"-125.5284\" rx=\"18\" ry=\"18\"/>\n<text text-anchor=\"middle\" x=\"213\" y=\"-121.8284\" font-family=\"Times,serif\" font-size=\"14.00\" fill=\"#000000\">3</text>\n</g>\n<!-- 1&#45;&gt;3 -->\n<g id=\"edge8\" class=\"edge\">\n<title>1&#45;&gt;3</title>\n<path fill=\"none\" stroke=\"#000000\" d=\"M132.3226,-158.3155C145.5435,-154.1812 164.1256,-148.0334 180,-141.5284 182.5095,-140.5001 185.0974,-139.3711 187.6682,-138.2033\"/>\n<polygon fill=\"#000000\" stroke=\"#000000\" points=\"189.1909,-141.3549 196.7336,-133.9146 186.1974,-135.0272 189.1909,-141.3549\"/>\n<text text-anchor=\"middle\" x=\"164\" y=\"-156.3284\" font-family=\"Times,serif\" font-size=\"14.00\" fill=\"#000000\">e:e/8</text>\n</g>\n<!-- 1&#45;&gt;3 -->\n<g id=\"edge9\" class=\"edge\">\n<title>1&#45;&gt;3</title>\n<path fill=\"none\" stroke=\"#000000\" d=\"M123.3272,-147.2369C128.9438,-138.1508 137.2863,-127.6582 148,-122.5284 159.5056,-117.0195 173.508,-116.9543 185.5659,-118.6022\"/>\n<polygon fill=\"#000000\" stroke=\"#000000\" points=\"185.0884,-122.0724 195.55,-120.3976 186.3273,-115.1829 185.0884,-122.0724\"/>\n<text text-anchor=\"middle\" x=\"164\" y=\"-126.3284\" font-family=\"Times,serif\" font-size=\"14.00\" fill=\"#000000\">f:f/9</text>\n</g>\n<!-- 2&#45;&gt;3 -->\n<g id=\"edge10\" class=\"edge\">\n<title>2&#45;&gt;3</title>\n<path fill=\"none\" stroke=\"#000000\" d=\"M130.8757,-67.494C144.2756,-75.2496 163.8087,-87.0013 180,-98.5284 183.7652,-101.209 187.6567,-104.1881 191.3891,-107.1607\"/>\n<polygon fill=\"#000000\" stroke=\"#000000\" points=\"189.2364,-109.9216 199.1945,-113.5392 193.6659,-104.5012 189.2364,-109.9216\"/>\n<text text-anchor=\"middle\" x=\"164\" y=\"-102.3284\" font-family=\"Times,serif\" font-size=\"14.00\" fill=\"#000000\">f:f/12</text>\n</g>\n<!-- 4 -->\n<g id=\"node5\" class=\"node\">\n<title>4</title>\n<ellipse fill=\"none\" stroke=\"#000000\" stroke-width=\"2\" cx=\"323\" cy=\"-125.5284\" rx=\"18\" ry=\"18\"/>\n<ellipse fill=\"none\" stroke=\"#000000\" stroke-width=\"2\" cx=\"323\" cy=\"-125.5284\" rx=\"22\" ry=\"22\"/>\n<text text-anchor=\"middle\" x=\"323\" y=\"-121.8284\" font-family=\"Times,serif\" font-size=\"14.00\" fill=\"#000000\">4</text>\n</g>\n<!-- 3&#45;&gt;4 -->\n<g id=\"edge11\" class=\"edge\">\n<title>3&#45;&gt;4</title>\n<path fill=\"none\" stroke=\"#000000\" d=\"M231.1643,-125.5284C247.2282,-125.5284 271.051,-125.5284 290.4074,-125.5284\"/>\n<polygon fill=\"#000000\" stroke=\"#000000\" points=\"290.6239,-129.0285 300.6239,-125.5284 290.6238,-122.0285 290.6239,-129.0285\"/>\n<text text-anchor=\"middle\" x=\"266\" y=\"-129.3284\" font-family=\"Times,serif\" font-size=\"14.00\" fill=\"#000000\">&#45;1:&#45;1/0</text>\n</g>\n</g>\n</svg>\n"
          },
          "metadata": {},
          "execution_count": 5
        }
      ]
    },
    {
      "cell_type": "markdown",
      "source": [
        "## Composition & Determinization"
      ],
      "metadata": {
        "id": "o7NetP3FASi7"
      }
    },
    {
      "cell_type": "code",
      "source": [
        "s = '''\n",
        "0 1 1 2 0.1\n",
        "1 2 2 2 0.3\n",
        "1 3 2 2 0.4\n",
        "2 3 1 2 0.5\n",
        "3 3 1 1 0.6\n",
        "3 4 -1 -1 0\n",
        "4\n",
        "'''\n",
        "\n",
        "#a_fsa = k2.Fsa.from_str(s)\n",
        "a_fst = k2.Fsa.from_str(s, acceptor=False)\n",
        "sym_str = '''\n",
        " <eps> 0\n",
        " a 1\n",
        " b 2\n",
        " c 3\n",
        " d 4\n",
        " e 5\n",
        " f 6\n",
        "'''\n",
        "#a_fsa.symbols = k2.SymbolTable.from_str(sym_str)\n",
        "#a_fsa.labels_sym = k2.SymbolTable.from_str(sym_str)\n",
        "a_fst.symbols = k2.SymbolTable.from_str(sym_str)\n",
        "a_fst.labels_sym = k2.SymbolTable.from_str(sym_str)\n",
        "a_fst.aux_labels_sym = k2.SymbolTable.from_str(sym_str)\n",
        "a_fst = k2.arc_sort(a_fst)\n",
        "a_fst.draw('a_fst.svg')"
      ],
      "metadata": {
        "colab": {
          "base_uri": "https://localhost:8080/",
          "height": 131
        },
        "id": "Ub-YXHfxc46h",
        "outputId": "6fdbf4e0-8dde-4cfc-8975-1f703e72c153"
      },
      "execution_count": null,
      "outputs": [
        {
          "output_type": "execute_result",
          "data": {
            "text/plain": [
              "<graphviz.dot.Digraph at 0x7fc1dcb4c0d0>"
            ],
            "image/svg+xml": "<?xml version=\"1.0\" encoding=\"UTF-8\" standalone=\"no\"?>\n<!DOCTYPE svg PUBLIC \"-//W3C//DTD SVG 1.1//EN\"\n \"http://www.w3.org/Graphics/SVG/1.1/DTD/svg11.dtd\">\n<!-- Generated by graphviz version 2.40.1 (20161225.0304)\n -->\n<!-- Title: WFST Pages: 1 -->\n<svg width=\"484pt\" height=\"83pt\"\n viewBox=\"0.00 0.00 484.00 83.00\" xmlns=\"http://www.w3.org/2000/svg\" xmlns:xlink=\"http://www.w3.org/1999/xlink\">\n<g id=\"graph0\" class=\"graph\" transform=\"scale(1 1) rotate(0) translate(4 79)\">\n<title>WFST</title>\n<polygon fill=\"#ffffff\" stroke=\"transparent\" points=\"-4,4 -4,-79 480,-79 480,4 -4,4\"/>\n<!-- 0 -->\n<g id=\"node1\" class=\"node\">\n<title>0</title>\n<ellipse fill=\"none\" stroke=\"#000000\" stroke-width=\"2\" cx=\"18\" cy=\"-22\" rx=\"18\" ry=\"18\"/>\n<text text-anchor=\"middle\" x=\"18\" y=\"-18.3\" font-family=\"Times,serif\" font-size=\"14.00\" fill=\"#000000\">0</text>\n</g>\n<!-- 1 -->\n<g id=\"node2\" class=\"node\">\n<title>1</title>\n<ellipse fill=\"none\" stroke=\"#000000\" stroke-width=\"2\" cx=\"124\" cy=\"-22\" rx=\"18\" ry=\"18\"/>\n<text text-anchor=\"middle\" x=\"124\" y=\"-18.3\" font-family=\"Times,serif\" font-size=\"14.00\" fill=\"#000000\">1</text>\n</g>\n<!-- 0&#45;&gt;1 -->\n<g id=\"edge1\" class=\"edge\">\n<title>0&#45;&gt;1</title>\n<path fill=\"none\" stroke=\"#000000\" d=\"M36.4638,-22C52.8034,-22 76.9,-22 95.6768,-22\"/>\n<polygon fill=\"#000000\" stroke=\"#000000\" points=\"95.7478,-25.5001 105.7478,-22 95.7478,-18.5001 95.7478,-25.5001\"/>\n<text text-anchor=\"middle\" x=\"71\" y=\"-25.8\" font-family=\"Times,serif\" font-size=\"14.00\" fill=\"#000000\">a:b/0.1</text>\n</g>\n<!-- 2 -->\n<g id=\"node3\" class=\"node\">\n<title>2</title>\n<ellipse fill=\"none\" stroke=\"#000000\" stroke-width=\"2\" cx=\"235\" cy=\"-57\" rx=\"18\" ry=\"18\"/>\n<text text-anchor=\"middle\" x=\"235\" y=\"-53.3\" font-family=\"Times,serif\" font-size=\"14.00\" fill=\"#000000\">2</text>\n</g>\n<!-- 1&#45;&gt;2 -->\n<g id=\"edge2\" class=\"edge\">\n<title>1&#45;&gt;2</title>\n<path fill=\"none\" stroke=\"#000000\" d=\"M141.3438,-27.4687C159.183,-33.0937 187.216,-41.933 207.9678,-48.4763\"/>\n<polygon fill=\"#000000\" stroke=\"#000000\" points=\"207.1884,-51.9004 217.778,-51.5697 209.2935,-45.2244 207.1884,-51.9004\"/>\n<text text-anchor=\"middle\" x=\"178\" y=\"-47.8\" font-family=\"Times,serif\" font-size=\"14.00\" fill=\"#000000\">b:b/0.3</text>\n</g>\n<!-- 3 -->\n<g id=\"node4\" class=\"node\">\n<title>3</title>\n<ellipse fill=\"none\" stroke=\"#000000\" stroke-width=\"2\" cx=\"344\" cy=\"-22\" rx=\"18\" ry=\"18\"/>\n<text text-anchor=\"middle\" x=\"344\" y=\"-18.3\" font-family=\"Times,serif\" font-size=\"14.00\" fill=\"#000000\">3</text>\n</g>\n<!-- 1&#45;&gt;3 -->\n<g id=\"edge3\" class=\"edge\">\n<title>1&#45;&gt;3</title>\n<path fill=\"none\" stroke=\"#000000\" d=\"M141.9275,-19.9951C167.3106,-17.3965 215.1832,-13.3792 256,-15 276.0374,-15.7957 298.5806,-17.6066 315.8338,-19.1872\"/>\n<polygon fill=\"#000000\" stroke=\"#000000\" points=\"315.5382,-22.6747 325.823,-20.1304 316.1963,-15.7057 315.5382,-22.6747\"/>\n<text text-anchor=\"middle\" x=\"235\" y=\"-18.8\" font-family=\"Times,serif\" font-size=\"14.00\" fill=\"#000000\">b:b/0.4</text>\n</g>\n<!-- 2&#45;&gt;3 -->\n<g id=\"edge4\" class=\"edge\">\n<title>2&#45;&gt;3</title>\n<path fill=\"none\" stroke=\"#000000\" d=\"M252.5127,-51.3766C269.9135,-45.7893 296.8388,-37.1435 316.9811,-30.6758\"/>\n<polygon fill=\"#000000\" stroke=\"#000000\" points=\"318.0796,-33.9992 326.5307,-27.6094 315.9395,-27.3343 318.0796,-33.9992\"/>\n<text text-anchor=\"middle\" x=\"291\" y=\"-47.8\" font-family=\"Times,serif\" font-size=\"14.00\" fill=\"#000000\">a:b/0.5</text>\n</g>\n<!-- 3&#45;&gt;3 -->\n<g id=\"edge5\" class=\"edge\">\n<title>3&#45;&gt;3</title>\n<path fill=\"none\" stroke=\"#000000\" d=\"M335.0212,-37.916C332.679,-48.1504 335.6719,-58 344,-58 349.4653,-58 352.633,-53.7581 353.503,-47.9494\"/>\n<polygon fill=\"#000000\" stroke=\"#000000\" points=\"356.9958,-47.7198 352.9788,-37.916 350.0054,-48.0851 356.9958,-47.7198\"/>\n<text text-anchor=\"middle\" x=\"344\" y=\"-61.8\" font-family=\"Times,serif\" font-size=\"14.00\" fill=\"#000000\">a:a/0.6</text>\n</g>\n<!-- 4 -->\n<g id=\"node5\" class=\"node\">\n<title>4</title>\n<ellipse fill=\"none\" stroke=\"#000000\" stroke-width=\"2\" cx=\"454\" cy=\"-22\" rx=\"18\" ry=\"18\"/>\n<ellipse fill=\"none\" stroke=\"#000000\" stroke-width=\"2\" cx=\"454\" cy=\"-22\" rx=\"22\" ry=\"22\"/>\n<text text-anchor=\"middle\" x=\"454\" y=\"-18.3\" font-family=\"Times,serif\" font-size=\"14.00\" fill=\"#000000\">4</text>\n</g>\n<!-- 3&#45;&gt;4 -->\n<g id=\"edge6\" class=\"edge\">\n<title>3&#45;&gt;4</title>\n<path fill=\"none\" stroke=\"#000000\" d=\"M362.1643,-22C378.2282,-22 402.051,-22 421.4074,-22\"/>\n<polygon fill=\"#000000\" stroke=\"#000000\" points=\"421.6239,-25.5001 431.6239,-22 421.6238,-18.5001 421.6239,-25.5001\"/>\n<text text-anchor=\"middle\" x=\"397\" y=\"-25.8\" font-family=\"Times,serif\" font-size=\"14.00\" fill=\"#000000\">&#45;1:&#45;1/0</text>\n</g>\n</g>\n</svg>\n"
          },
          "metadata": {},
          "execution_count": 6
        }
      ]
    },
    {
      "cell_type": "code",
      "source": [
        "s = '''\n",
        "0 1 2 2 0.1\n",
        "1 1 2 1 0.2\n",
        "1 2 1 2 0.3\n",
        "2 3 2 1 0.5\n",
        "3 4 -1 -1 0.6\n",
        "4\n",
        "'''\n",
        "\n",
        "#a_fsa = k2.Fsa.from_str(s)\n",
        "b_fst = k2.Fsa.from_str(s, acceptor=False)\n",
        "sym_str = '''\n",
        " <eps> 0\n",
        " a 1\n",
        " b 2\n",
        " c 3\n",
        " d 4\n",
        " e 5\n",
        " f 6\n",
        "'''\n",
        "#a_fsa.symbols = k2.SymbolTable.from_str(sym_str)\n",
        "#a_fsa.labels_sym = k2.SymbolTable.from_str(sym_str)\n",
        "b_fst.symbols = k2.SymbolTable.from_str(sym_str)\n",
        "b_fst.labels_sym = k2.SymbolTable.from_str(sym_str)\n",
        "b_fst.aux_labels_sym = k2.SymbolTable.from_str(sym_str)\n",
        "b_fst = k2.arc_sort(b_fst)\n",
        "b_fst.draw('b_fst.svg')"
      ],
      "metadata": {
        "colab": {
          "base_uri": "https://localhost:8080/",
          "height": 128
        },
        "id": "nOR8Nq8OdSpc",
        "outputId": "a567bab0-58fd-4299-c6af-5b37239a89fd"
      },
      "execution_count": null,
      "outputs": [
        {
          "output_type": "execute_result",
          "data": {
            "text/plain": [
              "<graphviz.dot.Digraph at 0x7fc1dcafd410>"
            ],
            "image/svg+xml": "<?xml version=\"1.0\" encoding=\"UTF-8\" standalone=\"no\"?>\n<!DOCTYPE svg PUBLIC \"-//W3C//DTD SVG 1.1//EN\"\n \"http://www.w3.org/Graphics/SVG/1.1/DTD/svg11.dtd\">\n<!-- Generated by graphviz version 2.40.1 (20161225.0304)\n -->\n<!-- Title: WFST Pages: 1 -->\n<svg width=\"489pt\" height=\"81pt\"\n viewBox=\"0.00 0.00 489.00 81.00\" xmlns=\"http://www.w3.org/2000/svg\" xmlns:xlink=\"http://www.w3.org/1999/xlink\">\n<g id=\"graph0\" class=\"graph\" transform=\"scale(1 1) rotate(0) translate(4 77)\">\n<title>WFST</title>\n<polygon fill=\"#ffffff\" stroke=\"transparent\" points=\"-4,4 -4,-77 485,-77 485,4 -4,4\"/>\n<!-- 0 -->\n<g id=\"node1\" class=\"node\">\n<title>0</title>\n<ellipse fill=\"none\" stroke=\"#000000\" stroke-width=\"2\" cx=\"18\" cy=\"-22\" rx=\"18\" ry=\"18\"/>\n<text text-anchor=\"middle\" x=\"18\" y=\"-18.3\" font-family=\"Times,serif\" font-size=\"14.00\" fill=\"#000000\">0</text>\n</g>\n<!-- 1 -->\n<g id=\"node2\" class=\"node\">\n<title>1</title>\n<ellipse fill=\"none\" stroke=\"#000000\" stroke-width=\"2\" cx=\"126\" cy=\"-22\" rx=\"18\" ry=\"18\"/>\n<text text-anchor=\"middle\" x=\"126\" y=\"-18.3\" font-family=\"Times,serif\" font-size=\"14.00\" fill=\"#000000\">1</text>\n</g>\n<!-- 0&#45;&gt;1 -->\n<g id=\"edge1\" class=\"edge\">\n<title>0&#45;&gt;1</title>\n<path fill=\"none\" stroke=\"#000000\" d=\"M36.3207,-22C53.179,-22 78.4349,-22 97.853,-22\"/>\n<polygon fill=\"#000000\" stroke=\"#000000\" points=\"97.9499,-25.5001 107.9498,-22 97.9498,-18.5001 97.9499,-25.5001\"/>\n<text text-anchor=\"middle\" x=\"72\" y=\"-25.8\" font-family=\"Times,serif\" font-size=\"14.00\" fill=\"#000000\">b:b/0.1</text>\n</g>\n<!-- 1&#45;&gt;1 -->\n<g id=\"edge3\" class=\"edge\">\n<title>1&#45;&gt;1</title>\n<path fill=\"none\" stroke=\"#000000\" d=\"M117.0212,-37.916C114.679,-48.1504 117.6719,-58 126,-58 131.4653,-58 134.633,-53.7581 135.503,-47.9494\"/>\n<polygon fill=\"#000000\" stroke=\"#000000\" points=\"138.9958,-47.7198 134.9788,-37.916 132.0054,-48.0851 138.9958,-47.7198\"/>\n<text text-anchor=\"middle\" x=\"126\" y=\"-61.8\" font-family=\"Times,serif\" font-size=\"14.00\" fill=\"#000000\">b:a/0.2</text>\n</g>\n<!-- 2 -->\n<g id=\"node3\" class=\"node\">\n<title>2</title>\n<ellipse fill=\"none\" stroke=\"#000000\" stroke-width=\"2\" cx=\"232\" cy=\"-22\" rx=\"18\" ry=\"18\"/>\n<text text-anchor=\"middle\" x=\"232\" y=\"-18.3\" font-family=\"Times,serif\" font-size=\"14.00\" fill=\"#000000\">2</text>\n</g>\n<!-- 1&#45;&gt;2 -->\n<g id=\"edge2\" class=\"edge\">\n<title>1&#45;&gt;2</title>\n<path fill=\"none\" stroke=\"#000000\" d=\"M144.4638,-22C160.8034,-22 184.9,-22 203.6768,-22\"/>\n<polygon fill=\"#000000\" stroke=\"#000000\" points=\"203.7478,-25.5001 213.7478,-22 203.7478,-18.5001 203.7478,-25.5001\"/>\n<text text-anchor=\"middle\" x=\"179\" y=\"-25.8\" font-family=\"Times,serif\" font-size=\"14.00\" fill=\"#000000\">a:b/0.3</text>\n</g>\n<!-- 3 -->\n<g id=\"node4\" class=\"node\">\n<title>3</title>\n<ellipse fill=\"none\" stroke=\"#000000\" stroke-width=\"2\" cx=\"338\" cy=\"-22\" rx=\"18\" ry=\"18\"/>\n<text text-anchor=\"middle\" x=\"338\" y=\"-18.3\" font-family=\"Times,serif\" font-size=\"14.00\" fill=\"#000000\">3</text>\n</g>\n<!-- 2&#45;&gt;3 -->\n<g id=\"edge4\" class=\"edge\">\n<title>2&#45;&gt;3</title>\n<path fill=\"none\" stroke=\"#000000\" d=\"M250.4638,-22C266.8034,-22 290.9,-22 309.6768,-22\"/>\n<polygon fill=\"#000000\" stroke=\"#000000\" points=\"309.7478,-25.5001 319.7478,-22 309.7478,-18.5001 309.7478,-25.5001\"/>\n<text text-anchor=\"middle\" x=\"285\" y=\"-25.8\" font-family=\"Times,serif\" font-size=\"14.00\" fill=\"#000000\">b:a/0.5</text>\n</g>\n<!-- 4 -->\n<g id=\"node5\" class=\"node\">\n<title>4</title>\n<ellipse fill=\"none\" stroke=\"#000000\" stroke-width=\"2\" cx=\"459\" cy=\"-22\" rx=\"18\" ry=\"18\"/>\n<ellipse fill=\"none\" stroke=\"#000000\" stroke-width=\"2\" cx=\"459\" cy=\"-22\" rx=\"22\" ry=\"22\"/>\n<text text-anchor=\"middle\" x=\"459\" y=\"-18.3\" font-family=\"Times,serif\" font-size=\"14.00\" fill=\"#000000\">4</text>\n</g>\n<!-- 3&#45;&gt;4 -->\n<g id=\"edge5\" class=\"edge\">\n<title>3&#45;&gt;4</title>\n<path fill=\"none\" stroke=\"#000000\" d=\"M356.1149,-22C374.6689,-22 403.911,-22 426.4855,-22\"/>\n<polygon fill=\"#000000\" stroke=\"#000000\" points=\"426.6404,-25.5001 436.6404,-22 426.6403,-18.5001 426.6404,-25.5001\"/>\n<text text-anchor=\"middle\" x=\"396.5\" y=\"-25.8\" font-family=\"Times,serif\" font-size=\"14.00\" fill=\"#000000\">&#45;1:&#45;1/0.6</text>\n</g>\n</g>\n</svg>\n"
          },
          "metadata": {},
          "execution_count": 7
        }
      ]
    },
    {
      "cell_type": "code",
      "source": [
        "ab = k2.compose(a_fst, b_fst)\n",
        "ab.draw('ab_fst.svg')"
      ],
      "metadata": {
        "colab": {
          "base_uri": "https://localhost:8080/",
          "height": 126
        },
        "id": "JSKyl2KHdrWM",
        "outputId": "44577f19-ed3c-43e6-fc81-3073231d8f8b"
      },
      "execution_count": null,
      "outputs": [
        {
          "output_type": "execute_result",
          "data": {
            "text/plain": [
              "<graphviz.dot.Digraph at 0x7fc1dcaf9fd0>"
            ],
            "image/svg+xml": "<?xml version=\"1.0\" encoding=\"UTF-8\" standalone=\"no\"?>\n<!DOCTYPE svg PUBLIC \"-//W3C//DTD SVG 1.1//EN\"\n \"http://www.w3.org/Graphics/SVG/1.1/DTD/svg11.dtd\">\n<!-- Generated by graphviz version 2.40.1 (20161225.0304)\n -->\n<!-- Title: WFST Pages: 1 -->\n<svg width=\"471pt\" height=\"79pt\"\n viewBox=\"0.00 0.00 471.00 79.00\" xmlns=\"http://www.w3.org/2000/svg\" xmlns:xlink=\"http://www.w3.org/1999/xlink\">\n<g id=\"graph0\" class=\"graph\" transform=\"scale(1 1) rotate(0) translate(4 75)\">\n<title>WFST</title>\n<polygon fill=\"#ffffff\" stroke=\"transparent\" points=\"-4,4 -4,-75 467,-75 467,4 -4,4\"/>\n<!-- 0 -->\n<g id=\"node1\" class=\"node\">\n<title>0</title>\n<ellipse fill=\"none\" stroke=\"#000000\" stroke-width=\"2\" cx=\"18\" cy=\"-18\" rx=\"18\" ry=\"18\"/>\n<text text-anchor=\"middle\" x=\"18\" y=\"-14.3\" font-family=\"Times,serif\" font-size=\"14.00\" fill=\"#000000\">0</text>\n</g>\n<!-- 1 -->\n<g id=\"node2\" class=\"node\">\n<title>1</title>\n<ellipse fill=\"none\" stroke=\"#000000\" stroke-width=\"2\" cx=\"124\" cy=\"-18\" rx=\"18\" ry=\"18\"/>\n<text text-anchor=\"middle\" x=\"124\" y=\"-14.3\" font-family=\"Times,serif\" font-size=\"14.00\" fill=\"#000000\">1</text>\n</g>\n<!-- 0&#45;&gt;1 -->\n<g id=\"edge1\" class=\"edge\">\n<title>0&#45;&gt;1</title>\n<path fill=\"none\" stroke=\"#000000\" d=\"M36.4638,-18C52.8034,-18 76.9,-18 95.6768,-18\"/>\n<polygon fill=\"#000000\" stroke=\"#000000\" points=\"95.7478,-21.5001 105.7478,-18 95.7478,-14.5001 95.7478,-21.5001\"/>\n<text text-anchor=\"middle\" x=\"71\" y=\"-21.8\" font-family=\"Times,serif\" font-size=\"14.00\" fill=\"#000000\">a:b/0.2</text>\n</g>\n<!-- 2 -->\n<g id=\"node3\" class=\"node\">\n<title>2</title>\n<ellipse fill=\"none\" stroke=\"#000000\" stroke-width=\"2\" cx=\"232\" cy=\"-53\" rx=\"18\" ry=\"18\"/>\n<text text-anchor=\"middle\" x=\"232\" y=\"-49.3\" font-family=\"Times,serif\" font-size=\"14.00\" fill=\"#000000\">2</text>\n</g>\n<!-- 1&#45;&gt;2 -->\n<g id=\"edge2\" class=\"edge\">\n<title>1&#45;&gt;2</title>\n<path fill=\"none\" stroke=\"#000000\" d=\"M141.3521,-23.6234C158.5144,-29.1852 185.028,-37.7776 204.9552,-44.2355\"/>\n<polygon fill=\"#000000\" stroke=\"#000000\" points=\"204.099,-47.6372 214.691,-47.3906 206.2571,-40.9781 204.099,-47.6372\"/>\n<text text-anchor=\"middle\" x=\"177\" y=\"-43.8\" font-family=\"Times,serif\" font-size=\"14.00\" fill=\"#000000\">b:a/0.5</text>\n</g>\n<!-- 3 -->\n<g id=\"node4\" class=\"node\">\n<title>3</title>\n<ellipse fill=\"none\" stroke=\"#000000\" stroke-width=\"2\" cx=\"339\" cy=\"-18\" rx=\"18\" ry=\"18\"/>\n<text text-anchor=\"middle\" x=\"339\" y=\"-14.3\" font-family=\"Times,serif\" font-size=\"14.00\" fill=\"#000000\">3</text>\n</g>\n<!-- 1&#45;&gt;3 -->\n<g id=\"edge3\" class=\"edge\">\n<title>1&#45;&gt;3</title>\n<path fill=\"none\" stroke=\"#000000\" d=\"M142.2213,-15.9159C167.0388,-13.3261 212.862,-9.428 252,-11 271.6239,-11.7882 293.6775,-13.5726 310.6705,-15.1424\"/>\n<polygon fill=\"#000000\" stroke=\"#000000\" points=\"310.743,-18.6651 321.0301,-16.1304 311.4076,-11.6967 310.743,-18.6651\"/>\n<text text-anchor=\"middle\" x=\"232\" y=\"-14.8\" font-family=\"Times,serif\" font-size=\"14.00\" fill=\"#000000\">b:a/0.6</text>\n</g>\n<!-- 2&#45;&gt;3 -->\n<g id=\"edge4\" class=\"edge\">\n<title>2&#45;&gt;3</title>\n<path fill=\"none\" stroke=\"#000000\" d=\"M249.1914,-47.3766C266.1949,-41.8148 292.4629,-33.2224 312.2056,-26.7645\"/>\n<polygon fill=\"#000000\" stroke=\"#000000\" points=\"313.435,-30.045 321.8513,-23.6094 311.2587,-23.3918 313.435,-30.045\"/>\n<text text-anchor=\"middle\" x=\"286.5\" y=\"-43.8\" font-family=\"Times,serif\" font-size=\"14.00\" fill=\"#000000\">a:a/0.7</text>\n</g>\n<!-- 4 -->\n<g id=\"node5\" class=\"node\">\n<title>4</title>\n<ellipse fill=\"none\" stroke=\"#000000\" stroke-width=\"2\" cx=\"445\" cy=\"-18\" rx=\"18\" ry=\"18\"/>\n<text text-anchor=\"middle\" x=\"445\" y=\"-14.3\" font-family=\"Times,serif\" font-size=\"14.00\" fill=\"#000000\">4</text>\n</g>\n<!-- 3&#45;&gt;4 -->\n<g id=\"edge5\" class=\"edge\">\n<title>3&#45;&gt;4</title>\n<path fill=\"none\" stroke=\"#000000\" d=\"M357.4638,-18C373.8034,-18 397.9,-18 416.6768,-18\"/>\n<polygon fill=\"#000000\" stroke=\"#000000\" points=\"416.7478,-21.5001 426.7478,-18 416.7478,-14.5001 416.7478,-21.5001\"/>\n<text text-anchor=\"middle\" x=\"392\" y=\"-21.8\" font-family=\"Times,serif\" font-size=\"14.00\" fill=\"#000000\">a:b/0.9</text>\n</g>\n</g>\n</svg>\n"
          },
          "metadata": {},
          "execution_count": 8
        }
      ]
    },
    {
      "cell_type": "code",
      "source": [
        "a_fsa.draw('a_fsa.svg')"
      ],
      "metadata": {
        "colab": {
          "base_uri": "https://localhost:8080/",
          "height": 286
        },
        "id": "SWK8ApfSecnM",
        "outputId": "153a8e6f-3cab-4472-b96a-30995fe672fa"
      },
      "execution_count": null,
      "outputs": [
        {
          "output_type": "execute_result",
          "data": {
            "text/plain": [
              "<graphviz.dot.Digraph at 0x7fc1dcafdc10>"
            ],
            "image/svg+xml": "<?xml version=\"1.0\" encoding=\"UTF-8\" standalone=\"no\"?>\n<!DOCTYPE svg PUBLIC \"-//W3C//DTD SVG 1.1//EN\"\n \"http://www.w3.org/Graphics/SVG/1.1/DTD/svg11.dtd\">\n<!-- Generated by graphviz version 2.40.1 (20161225.0304)\n -->\n<!-- Title: WFSA Pages: 1 -->\n<svg width=\"317pt\" height=\"199pt\"\n viewBox=\"0.00 0.00 317.00 199.32\" xmlns=\"http://www.w3.org/2000/svg\" xmlns:xlink=\"http://www.w3.org/1999/xlink\">\n<g id=\"graph0\" class=\"graph\" transform=\"scale(1 1) rotate(0) translate(4 195.3243)\">\n<title>WFSA</title>\n<polygon fill=\"#ffffff\" stroke=\"transparent\" points=\"-4,4 -4,-195.3243 313,-195.3243 313,4 -4,4\"/>\n<!-- 0 -->\n<g id=\"node1\" class=\"node\">\n<title>0</title>\n<ellipse fill=\"none\" stroke=\"#000000\" stroke-width=\"2\" cx=\"18\" cy=\"-81.3243\" rx=\"18\" ry=\"18\"/>\n<text text-anchor=\"middle\" x=\"18\" y=\"-77.6243\" font-family=\"Times,serif\" font-size=\"14.00\" fill=\"#000000\">0</text>\n</g>\n<!-- 1 -->\n<g id=\"node2\" class=\"node\">\n<title>1</title>\n<ellipse fill=\"none\" stroke=\"#000000\" stroke-width=\"2\" cx=\"103\" cy=\"-157.3243\" rx=\"18\" ry=\"18\"/>\n<text text-anchor=\"middle\" x=\"103\" y=\"-153.6243\" font-family=\"Times,serif\" font-size=\"14.00\" fill=\"#000000\">1</text>\n</g>\n<!-- 0&#45;&gt;1 -->\n<g id=\"edge1\" class=\"edge\">\n<title>0&#45;&gt;1</title>\n<path fill=\"none\" stroke=\"#000000\" d=\"M21.8841,-99.3216C27.5196,-123.5499 38.6493,-164.6332 51,-173.3243 59.3426,-179.1948 69.901,-177.2645 79.3208,-173.0704\"/>\n<polygon fill=\"#000000\" stroke=\"#000000\" points=\"81.0525,-176.1136 88.2369,-168.3267 77.7646,-169.9338 81.0525,-176.1136\"/>\n<text text-anchor=\"middle\" x=\"60.5\" y=\"-180.1243\" font-family=\"Times,serif\" font-size=\"14.00\" fill=\"#000000\">a/1</text>\n</g>\n<!-- 0&#45;&gt;1 -->\n<g id=\"edge4\" class=\"edge\">\n<title>0&#45;&gt;1</title>\n<path fill=\"none\" stroke=\"#000000\" d=\"M29.2089,-95.7292C35.2898,-103.1413 43.1524,-112.1097 51,-119.3243 59.7331,-127.3529 70.1588,-135.2534 79.3742,-141.7532\"/>\n<polygon fill=\"#000000\" stroke=\"#000000\" points=\"77.5222,-144.7274 87.744,-147.5141 81.4911,-138.9613 77.5222,-144.7274\"/>\n<text text-anchor=\"middle\" x=\"60.5\" y=\"-137.1243\" font-family=\"Times,serif\" font-size=\"14.00\" fill=\"#000000\">c/5</text>\n</g>\n<!-- 2 -->\n<g id=\"node3\" class=\"node\">\n<title>2</title>\n<ellipse fill=\"none\" stroke=\"#000000\" stroke-width=\"2\" cx=\"103\" cy=\"-52.3243\" rx=\"18\" ry=\"18\"/>\n<text text-anchor=\"middle\" x=\"103\" y=\"-48.6243\" font-family=\"Times,serif\" font-size=\"14.00\" fill=\"#000000\">2</text>\n</g>\n<!-- 0&#45;&gt;2 -->\n<g id=\"edge2\" class=\"edge\">\n<title>0&#45;&gt;2</title>\n<path fill=\"none\" stroke=\"#000000\" d=\"M33.0887,-91.8844C43.7585,-97.956 58.2044,-103.3016 70,-97.3243 78.3232,-93.1066 85.0545,-85.6931 90.2138,-78.0854\"/>\n<polygon fill=\"#000000\" stroke=\"#000000\" points=\"93.3784,-79.6153 95.5492,-69.2453 87.3854,-75.9982 93.3784,-79.6153\"/>\n<text text-anchor=\"middle\" x=\"60.5\" y=\"-104.1243\" font-family=\"Times,serif\" font-size=\"14.00\" fill=\"#000000\">a/3</text>\n</g>\n<!-- 0&#45;&gt;2 -->\n<g id=\"edge3\" class=\"edge\">\n<title>0&#45;&gt;2</title>\n<path fill=\"none\" stroke=\"#000000\" d=\"M35.201,-75.4557C46.9526,-71.4463 62.7617,-66.0526 76.1579,-61.4822\"/>\n<polygon fill=\"#000000\" stroke=\"#000000\" points=\"77.4904,-64.7257 85.8246,-58.1841 75.2301,-58.1007 77.4904,-64.7257\"/>\n<text text-anchor=\"middle\" x=\"60.5\" y=\"-74.1243\" font-family=\"Times,serif\" font-size=\"14.00\" fill=\"#000000\">b/4</text>\n</g>\n<!-- 0&#45;&gt;2 -->\n<g id=\"edge5\" class=\"edge\">\n<title>0&#45;&gt;2</title>\n<path fill=\"none\" stroke=\"#000000\" d=\"M27.5975,-65.8573C33.3334,-58.1362 41.3766,-49.5576 51,-45.3243 58.7388,-41.9199 67.7012,-41.9042 75.9827,-43.2674\"/>\n<polygon fill=\"#000000\" stroke=\"#000000\" points=\"75.4332,-46.7328 85.9652,-45.5804 77.0134,-39.9134 75.4332,-46.7328\"/>\n<text text-anchor=\"middle\" x=\"60.5\" y=\"-49.1243\" font-family=\"Times,serif\" font-size=\"14.00\" fill=\"#000000\">c/7</text>\n</g>\n<!-- 0&#45;&gt;2 -->\n<g id=\"edge6\" class=\"edge\">\n<title>0&#45;&gt;2</title>\n<path fill=\"none\" stroke=\"#000000\" d=\"M22.8362,-63.9629C27.6002,-50.5074 36.339,-32.7771 51,-24.3243 61.5482,-18.2426 73.4995,-23.828 83.2825,-31.5651\"/>\n<polygon fill=\"#000000\" stroke=\"#000000\" points=\"81.1167,-34.3231 90.9118,-38.3614 85.7729,-29.0962 81.1167,-34.3231\"/>\n<text text-anchor=\"middle\" x=\"60.5\" y=\"-28.1243\" font-family=\"Times,serif\" font-size=\"14.00\" fill=\"#000000\">d/8</text>\n</g>\n<!-- 0&#45;&gt;2 -->\n<g id=\"edge7\" class=\"edge\">\n<title>0&#45;&gt;2</title>\n<path fill=\"none\" stroke=\"#000000\" d=\"M19.9914,-63.1637C23.1062,-44.5661 31.022,-16.5644 51,-3.3243 58.0389,1.3407 62.5454,.6428 70,-3.3243 79.4077,-8.3307 86.615,-17.3455 91.8583,-26.2899\"/>\n<polygon fill=\"#000000\" stroke=\"#000000\" points=\"88.8911,-28.1692 96.6213,-35.4145 95.0966,-24.93 88.8911,-28.1692\"/>\n<text text-anchor=\"middle\" x=\"60.5\" y=\"-7.1243\" font-family=\"Times,serif\" font-size=\"14.00\" fill=\"#000000\">e/9</text>\n</g>\n<!-- 3 -->\n<g id=\"node4\" class=\"node\">\n<title>3</title>\n<ellipse fill=\"none\" stroke=\"#000000\" stroke-width=\"2\" cx=\"193\" cy=\"-119.3243\" rx=\"18\" ry=\"18\"/>\n<text text-anchor=\"middle\" x=\"193\" y=\"-115.6243\" font-family=\"Times,serif\" font-size=\"14.00\" fill=\"#000000\">3</text>\n</g>\n<!-- 1&#45;&gt;3 -->\n<g id=\"edge8\" class=\"edge\">\n<title>1&#45;&gt;3</title>\n<path fill=\"none\" stroke=\"#000000\" d=\"M120.11,-151.1438C131.5091,-146.923 146.7691,-141.0733 160,-135.3243 162.4873,-134.2435 165.0605,-133.0794 167.6221,-131.8897\"/>\n<polygon fill=\"#000000\" stroke=\"#000000\" points=\"169.1561,-135.0358 176.6749,-127.5714 166.1423,-128.7178 169.1561,-135.0358\"/>\n<text text-anchor=\"middle\" x=\"148\" y=\"-148.1243\" font-family=\"Times,serif\" font-size=\"14.00\" fill=\"#000000\">e/8</text>\n</g>\n<!-- 1&#45;&gt;3 -->\n<g id=\"edge9\" class=\"edge\">\n<title>1&#45;&gt;3</title>\n<path fill=\"none\" stroke=\"#000000\" d=\"M111.3272,-141.0327C116.9438,-131.9467 125.2863,-121.454 136,-116.3243 145.058,-111.9873 155.8771,-111.5543 165.6435,-112.6139\"/>\n<polygon fill=\"#000000\" stroke=\"#000000\" points=\"165.2649,-116.098 175.6948,-114.2355 166.3799,-109.1874 165.2649,-116.098\"/>\n<text text-anchor=\"middle\" x=\"148\" y=\"-120.1243\" font-family=\"Times,serif\" font-size=\"14.00\" fill=\"#000000\">f/9</text>\n</g>\n<!-- 2&#45;&gt;3 -->\n<g id=\"edge10\" class=\"edge\">\n<title>2&#45;&gt;3</title>\n<path fill=\"none\" stroke=\"#000000\" d=\"M118.219,-62.5535C129.8275,-70.4638 146.1288,-81.8052 160,-92.3243 163.6827,-95.117 167.5321,-98.1536 171.2477,-101.1489\"/>\n<polygon fill=\"#000000\" stroke=\"#000000\" points=\"169.0944,-103.9093 179.0515,-107.5296 173.5253,-98.4902 169.0944,-103.9093\"/>\n<text text-anchor=\"middle\" x=\"148\" y=\"-96.1243\" font-family=\"Times,serif\" font-size=\"14.00\" fill=\"#000000\">f/12</text>\n</g>\n<!-- 4 -->\n<g id=\"node5\" class=\"node\">\n<title>4</title>\n<ellipse fill=\"none\" stroke=\"#000000\" stroke-width=\"2\" cx=\"287\" cy=\"-119.3243\" rx=\"18\" ry=\"18\"/>\n<ellipse fill=\"none\" stroke=\"#000000\" stroke-width=\"2\" cx=\"287\" cy=\"-119.3243\" rx=\"22\" ry=\"22\"/>\n<text text-anchor=\"middle\" x=\"287\" y=\"-115.6243\" font-family=\"Times,serif\" font-size=\"14.00\" fill=\"#000000\">4</text>\n</g>\n<!-- 3&#45;&gt;4 -->\n<g id=\"edge11\" class=\"edge\">\n<title>3&#45;&gt;4</title>\n<path fill=\"none\" stroke=\"#000000\" d=\"M211.1241,-119.3243C223.4881,-119.3243 240.2047,-119.3243 254.8005,-119.3243\"/>\n<polygon fill=\"#000000\" stroke=\"#000000\" points=\"254.9612,-122.8244 264.9612,-119.3243 254.9611,-115.8244 254.9612,-122.8244\"/>\n<text text-anchor=\"middle\" x=\"238\" y=\"-123.1243\" font-family=\"Times,serif\" font-size=\"14.00\" fill=\"#000000\">&#45;1/0</text>\n</g>\n</g>\n</svg>\n"
          },
          "metadata": {},
          "execution_count": 9
        }
      ]
    },
    {
      "cell_type": "code",
      "source": [
        "a_deter = k2.determinize(a_fsa)\n",
        "a_deter = k2.arc_sort(a_deter)\n",
        "a_deter.labels_sym = k2.SymbolTable.from_str(sym_str)\n",
        "a_deter.draw('deter.svg')"
      ],
      "metadata": {
        "colab": {
          "base_uri": "https://localhost:8080/",
          "height": 282
        },
        "id": "MSfF0CoueBb5",
        "outputId": "fe8249bc-b03c-41fd-bab6-3d9376e2781d"
      },
      "execution_count": null,
      "outputs": [
        {
          "output_type": "execute_result",
          "data": {
            "text/plain": [
              "<graphviz.dot.Digraph at 0x7fc1dcaf6d10>"
            ],
            "image/svg+xml": "<?xml version=\"1.0\" encoding=\"UTF-8\" standalone=\"no\"?>\n<!DOCTYPE svg PUBLIC \"-//W3C//DTD SVG 1.1//EN\"\n \"http://www.w3.org/Graphics/SVG/1.1/DTD/svg11.dtd\">\n<!-- Generated by graphviz version 2.40.1 (20161225.0304)\n -->\n<!-- Title: WFSA Pages: 1 -->\n<svg width=\"318pt\" height=\"196pt\"\n viewBox=\"0.00 0.00 318.00 196.00\" xmlns=\"http://www.w3.org/2000/svg\" xmlns:xlink=\"http://www.w3.org/1999/xlink\">\n<g id=\"graph0\" class=\"graph\" transform=\"scale(1 1) rotate(0) translate(4 192)\">\n<title>WFSA</title>\n<polygon fill=\"#ffffff\" stroke=\"transparent\" points=\"-4,4 -4,-192 314,-192 314,4 -4,4\"/>\n<!-- 0 -->\n<g id=\"node1\" class=\"node\">\n<title>0</title>\n<ellipse fill=\"none\" stroke=\"#000000\" stroke-width=\"2\" cx=\"18\" cy=\"-94\" rx=\"18\" ry=\"18\"/>\n<text text-anchor=\"middle\" x=\"18\" y=\"-90.3\" font-family=\"Times,serif\" font-size=\"14.00\" fill=\"#000000\">0</text>\n</g>\n<!-- 3 -->\n<g id=\"node2\" class=\"node\">\n<title>3</title>\n<ellipse fill=\"none\" stroke=\"#000000\" stroke-width=\"2\" cx=\"103\" cy=\"-170\" rx=\"18\" ry=\"18\"/>\n<text text-anchor=\"middle\" x=\"103\" y=\"-166.3\" font-family=\"Times,serif\" font-size=\"14.00\" fill=\"#000000\">3</text>\n</g>\n<!-- 0&#45;&gt;3 -->\n<g id=\"edge1\" class=\"edge\">\n<title>0&#45;&gt;3</title>\n<path fill=\"none\" stroke=\"#000000\" d=\"M29.6967,-107.8623C35.7826,-114.7826 43.5022,-123.1226 51,-130 59.905,-138.1682 70.36,-146.4362 79.551,-153.3183\"/>\n<polygon fill=\"#000000\" stroke=\"#000000\" points=\"77.7534,-156.3408 87.8837,-159.4436 81.8993,-150.7007 77.7534,-156.3408\"/>\n<text text-anchor=\"middle\" x=\"60.5\" y=\"-148.8\" font-family=\"Times,serif\" font-size=\"14.00\" fill=\"#000000\">a/0</text>\n</g>\n<!-- 1 -->\n<g id=\"node3\" class=\"node\">\n<title>1</title>\n<ellipse fill=\"none\" stroke=\"#000000\" stroke-width=\"2\" cx=\"103\" cy=\"-94\" rx=\"18\" ry=\"18\"/>\n<text text-anchor=\"middle\" x=\"103\" y=\"-90.3\" font-family=\"Times,serif\" font-size=\"14.00\" fill=\"#000000\">1</text>\n</g>\n<!-- 0&#45;&gt;1 -->\n<g id=\"edge2\" class=\"edge\">\n<title>0&#45;&gt;1</title>\n<path fill=\"none\" stroke=\"#000000\" d=\"M33.5774,-103.3343C38.9127,-106.04 45.0427,-108.632 51,-110 59.2302,-111.89 61.7698,-111.89 70,-110 72.6994,-109.3801 75.4343,-108.5089 78.1146,-107.4897\"/>\n<polygon fill=\"#000000\" stroke=\"#000000\" points=\"79.718,-110.6069 87.4226,-103.3343 76.8644,-104.2149 79.718,-110.6069\"/>\n<text text-anchor=\"middle\" x=\"60.5\" y=\"-114.8\" font-family=\"Times,serif\" font-size=\"14.00\" fill=\"#000000\">b/4</text>\n</g>\n<!-- 0&#45;&gt;1 -->\n<g id=\"edge4\" class=\"edge\">\n<title>0&#45;&gt;1</title>\n<path fill=\"none\" stroke=\"#000000\" d=\"M36.1352,-92.0536C40.9602,-91.6172 46.1726,-91.219 51,-91 59.4358,-90.6173 61.5642,-90.6173 70,-91 71.5086,-91.0684 73.0547,-91.1544 74.6149,-91.2535\"/>\n<polygon fill=\"#000000\" stroke=\"#000000\" points=\"74.6227,-94.7647 84.8648,-92.0536 75.1675,-87.7859 74.6227,-94.7647\"/>\n<text text-anchor=\"middle\" x=\"60.5\" y=\"-94.8\" font-family=\"Times,serif\" font-size=\"14.00\" fill=\"#000000\">d/8</text>\n</g>\n<!-- 0&#45;&gt;1 -->\n<g id=\"edge5\" class=\"edge\">\n<title>0&#45;&gt;1</title>\n<path fill=\"none\" stroke=\"#000000\" d=\"M31.4382,-81.8491C37.0662,-77.5428 43.9378,-73.2183 51,-71 59.0564,-68.4695 61.9436,-68.4695 70,-71 73.8621,-72.2131 77.6673,-74.0562 81.2432,-76.1817\"/>\n<polygon fill=\"#000000\" stroke=\"#000000\" points=\"79.3269,-79.1111 89.5618,-81.8491 83.2682,-73.3261 79.3269,-79.1111\"/>\n<text text-anchor=\"middle\" x=\"60.5\" y=\"-74.8\" font-family=\"Times,serif\" font-size=\"14.00\" fill=\"#000000\">e/9</text>\n</g>\n<!-- 2 -->\n<g id=\"node4\" class=\"node\">\n<title>2</title>\n<ellipse fill=\"none\" stroke=\"#000000\" stroke-width=\"2\" cx=\"103\" cy=\"-18\" rx=\"18\" ry=\"18\"/>\n<text text-anchor=\"middle\" x=\"103\" y=\"-14.3\" font-family=\"Times,serif\" font-size=\"14.00\" fill=\"#000000\">2</text>\n</g>\n<!-- 0&#45;&gt;2 -->\n<g id=\"edge3\" class=\"edge\">\n<title>0&#45;&gt;2</title>\n<path fill=\"none\" stroke=\"#000000\" d=\"M27.4482,-78.595C33.4623,-69.581 41.8289,-58.3653 51,-50 58.9051,-42.7895 68.6605,-36.2903 77.5781,-31.0623\"/>\n<polygon fill=\"#000000\" stroke=\"#000000\" points=\"79.4357,-34.0337 86.4553,-26.0979 76.019,-27.9241 79.4357,-34.0337\"/>\n<text text-anchor=\"middle\" x=\"60.5\" y=\"-53.8\" font-family=\"Times,serif\" font-size=\"14.00\" fill=\"#000000\">c/0</text>\n</g>\n<!-- 4 -->\n<g id=\"node5\" class=\"node\">\n<title>4</title>\n<ellipse fill=\"none\" stroke=\"#000000\" stroke-width=\"2\" cx=\"194\" cy=\"-94\" rx=\"18\" ry=\"18\"/>\n<text text-anchor=\"middle\" x=\"194\" y=\"-90.3\" font-family=\"Times,serif\" font-size=\"14.00\" fill=\"#000000\">4</text>\n</g>\n<!-- 3&#45;&gt;4 -->\n<g id=\"edge9\" class=\"edge\">\n<title>3&#45;&gt;4</title>\n<path fill=\"none\" stroke=\"#000000\" d=\"M120.7854,-166.4711C133.1365,-163.3023 149.3947,-157.6251 161,-148 170.0363,-140.5055 177.2784,-129.8597 182.6497,-119.9989\"/>\n<polygon fill=\"#000000\" stroke=\"#000000\" points=\"185.853,-121.4196 187.2239,-110.9138 179.6007,-118.2717 185.853,-121.4196\"/>\n<text text-anchor=\"middle\" x=\"148.5\" y=\"-164.8\" font-family=\"Times,serif\" font-size=\"14.00\" fill=\"#000000\">e/9</text>\n</g>\n<!-- 3&#45;&gt;4 -->\n<g id=\"edge10\" class=\"edge\">\n<title>3&#45;&gt;4</title>\n<path fill=\"none\" stroke=\"#000000\" d=\"M113.179,-154.8792C119.1998,-146.6249 127.3295,-136.5743 136,-129 145.8647,-120.3825 158.1239,-112.6386 168.8271,-106.6392\"/>\n<polygon fill=\"#000000\" stroke=\"#000000\" points=\"170.5915,-109.6643 177.733,-101.838 167.2697,-103.5026 170.5915,-109.6643\"/>\n<text text-anchor=\"middle\" x=\"148.5\" y=\"-132.8\" font-family=\"Times,serif\" font-size=\"14.00\" fill=\"#000000\">f/15</text>\n</g>\n<!-- 1&#45;&gt;4 -->\n<g id=\"edge6\" class=\"edge\">\n<title>1&#45;&gt;4</title>\n<path fill=\"none\" stroke=\"#000000\" d=\"M121.4152,-94C134.0791,-94 151.1442,-94 165.5459,-94\"/>\n<polygon fill=\"#000000\" stroke=\"#000000\" points=\"165.9228,-97.5001 175.9227,-94 165.9227,-90.5001 165.9228,-97.5001\"/>\n<text text-anchor=\"middle\" x=\"148.5\" y=\"-97.8\" font-family=\"Times,serif\" font-size=\"14.00\" fill=\"#000000\">f/12</text>\n</g>\n<!-- 2&#45;&gt;4 -->\n<g id=\"edge7\" class=\"edge\">\n<title>2&#45;&gt;4</title>\n<path fill=\"none\" stroke=\"#000000\" d=\"M116.8209,-29.5428C131.5196,-41.8186 154.9746,-61.4074 172.174,-75.7717\"/>\n<polygon fill=\"#000000\" stroke=\"#000000\" points=\"170.1301,-78.6248 180.049,-82.3486 174.6172,-73.2521 170.1301,-78.6248\"/>\n<text text-anchor=\"middle\" x=\"148.5\" y=\"-68.8\" font-family=\"Times,serif\" font-size=\"14.00\" fill=\"#000000\">e/13</text>\n</g>\n<!-- 2&#45;&gt;4 -->\n<g id=\"edge8\" class=\"edge\">\n<title>2&#45;&gt;4</title>\n<path fill=\"none\" stroke=\"#000000\" d=\"M121.1177,-16.6669C133.4664,-16.6821 149.5847,-18.6149 161,-27 173.9499,-36.5124 182.0951,-52.5151 187.0529,-66.4957\"/>\n<polygon fill=\"#000000\" stroke=\"#000000\" points=\"183.7687,-67.7185 190.1226,-76.1966 190.4425,-65.6066 183.7687,-67.7185\"/>\n<text text-anchor=\"middle\" x=\"148.5\" y=\"-30.8\" font-family=\"Times,serif\" font-size=\"14.00\" fill=\"#000000\">f/19</text>\n</g>\n<!-- 5 -->\n<g id=\"node6\" class=\"node\">\n<title>5</title>\n<ellipse fill=\"none\" stroke=\"#000000\" stroke-width=\"2\" cx=\"288\" cy=\"-94\" rx=\"18\" ry=\"18\"/>\n<ellipse fill=\"none\" stroke=\"#000000\" stroke-width=\"2\" cx=\"288\" cy=\"-94\" rx=\"22\" ry=\"22\"/>\n<text text-anchor=\"middle\" x=\"288\" y=\"-90.3\" font-family=\"Times,serif\" font-size=\"14.00\" fill=\"#000000\">5</text>\n</g>\n<!-- 4&#45;&gt;5 -->\n<g id=\"edge11\" class=\"edge\">\n<title>4&#45;&gt;5</title>\n<path fill=\"none\" stroke=\"#000000\" d=\"M212.1241,-94C224.4881,-94 241.2047,-94 255.8005,-94\"/>\n<polygon fill=\"#000000\" stroke=\"#000000\" points=\"255.9612,-97.5001 265.9612,-94 255.9611,-90.5001 255.9612,-97.5001\"/>\n<text text-anchor=\"middle\" x=\"239\" y=\"-97.8\" font-family=\"Times,serif\" font-size=\"14.00\" fill=\"#000000\">&#45;1/0</text>\n</g>\n</g>\n</svg>\n"
          },
          "metadata": {},
          "execution_count": 10
        }
      ]
    },
    {
      "cell_type": "markdown",
      "source": [
        "# WFST"
      ],
      "metadata": {
        "id": "UW6Ml3Y3-9ae"
      }
    },
    {
      "cell_type": "code",
      "source": [
        "words_values = k2.SymbolTable.from_file('lang/lm/words.txt')\n",
        "tokens_values = k2.SymbolTable.from_file('lang/lm/tokens.txt')"
      ],
      "metadata": {
        "id": "MIWPiEpwLHp8"
      },
      "execution_count": null,
      "outputs": []
    },
    {
      "cell_type": "markdown",
      "source": [
        "## CTC transducer & Lexicon transducer"
      ],
      "metadata": {
        "id": "YpT3fE6lcLmD"
      }
    },
    {
      "cell_type": "code",
      "source": [
        "C = k2.ctc_topo(max_token=129, modified=False)"
      ],
      "metadata": {
        "id": "PAPGgAXs-QMR"
      },
      "execution_count": null,
      "outputs": []
    },
    {
      "cell_type": "code",
      "source": [
        "from utils import read_lexicon\n",
        "\n",
        "lexicon = read_lexicon(\"lang/lm/lexicon.txt\")"
      ],
      "metadata": {
        "id": "_COJkkFkEFGx"
      },
      "execution_count": null,
      "outputs": []
    },
    {
      "cell_type": "code",
      "source": [
        "from utils import add_disambig_symbols\n",
        "\n",
        "lexicon_disambig, max_disambig = add_disambig_symbols(lexicon)"
      ],
      "metadata": {
        "id": "v_YskpYoEnHO"
      },
      "execution_count": null,
      "outputs": []
    },
    {
      "cell_type": "code",
      "source": [
        "max_disambig"
      ],
      "metadata": {
        "id": "qq7uWsUIFNM-",
        "colab": {
          "base_uri": "https://localhost:8080/"
        },
        "outputId": "895efc56-0669-4871-a0db-95991186349b"
      },
      "execution_count": null,
      "outputs": [
        {
          "output_type": "execute_result",
          "data": {
            "text/plain": [
              "1"
            ]
          },
          "metadata": {},
          "execution_count": 15
        }
      ]
    },
    {
      "cell_type": "code",
      "source": [
        "tokens_values.add('#0', 128)\n",
        "tokens_values.add('#1', 129)\n",
        "\n",
        "print(tokens_values.get('#0'), tokens_values.get('#1'))"
      ],
      "metadata": {
        "colab": {
          "base_uri": "https://localhost:8080/"
        },
        "id": "FlH9s71qMdEb",
        "outputId": "de56fd02-e5fa-4991-8387-4a9a807c9505"
      },
      "execution_count": null,
      "outputs": [
        {
          "output_type": "stream",
          "name": "stdout",
          "text": [
            "128 129\n"
          ]
        }
      ]
    },
    {
      "cell_type": "code",
      "source": [
        "from utils import lexicon_to_fst\n",
        "\n",
        "L = lexicon_to_fst(\n",
        "    lexicon_disambig,\n",
        "    token2id=tokens_values._sym2id,\n",
        "    word2id=words_values._sym2id,\n",
        "    need_self_loops=True\n",
        ")"
      ],
      "metadata": {
        "id": "a2nQda-kFOPM"
      },
      "execution_count": null,
      "outputs": []
    },
    {
      "cell_type": "markdown",
      "source": [
        "## Grammar transducer"
      ],
      "metadata": {
        "id": "zXeWxmwmcIvW"
      }
    },
    {
      "cell_type": "code",
      "source": [
        "!pip install kaldilm"
      ],
      "metadata": {
        "colab": {
          "base_uri": "https://localhost:8080/"
        },
        "id": "bBfsue39K0C0",
        "outputId": "d272f30c-b4eb-4e40-d99d-bac671996867"
      },
      "execution_count": null,
      "outputs": [
        {
          "output_type": "stream",
          "name": "stdout",
          "text": [
            "Looking in indexes: https://pypi.org/simple, https://us-python.pkg.dev/colab-wheels/public/simple/\n",
            "Collecting kaldilm\n",
            "  Downloading kaldilm-1.13.tar.gz (46 kB)\n",
            "\u001b[K     |████████████████████████████████| 46 kB 2.9 MB/s \n",
            "\u001b[?25hBuilding wheels for collected packages: kaldilm\n",
            "  Building wheel for kaldilm (setup.py) ... \u001b[?25l\u001b[?25hdone\n",
            "  Created wheel for kaldilm: filename=kaldilm-1.13-cp37-cp37m-linux_x86_64.whl size=890346 sha256=c3bfd8b52240c9898dcf42e99da25575cb76332647e8f6dd9d82bda58ad52b04\n",
            "  Stored in directory: /root/.cache/pip/wheels/32/e4/e8/793378fe62486e42dd2fbc316b6a9d3a43380bbda7d320a69d\n",
            "Successfully built kaldilm\n",
            "Installing collected packages: kaldilm\n",
            "Successfully installed kaldilm-1.13\n"
          ]
        }
      ]
    },
    {
      "cell_type": "code",
      "source": [
        "!python3 -m kaldilm --read-symbol-table=\"lang/lm/words.txt\" --disambig-symbol='#0' --max-order=3 lang/lm/libri_3_gram_1e-7.arpa > lang/G.fst.txt"
      ],
      "metadata": {
        "colab": {
          "base_uri": "https://localhost:8080/"
        },
        "id": "JDp0eJq5VgEe",
        "outputId": "4b44d554-04c4-4e50-b3df-e12bc98b1aa3"
      },
      "execution_count": null,
      "outputs": [
        {
          "output_type": "stream",
          "name": "stdout",
          "text": [
            "/tmp/pip-install-b3_qq438/kaldilm_e079150f25a9457188497dd1f0dfa553/kaldilm/csrc/arpa_file_parser.cc:void kaldilm::ArpaFileParser::Read(std::istream&):79\n",
            "[I] Reading \\data\\ section.\n",
            "/tmp/pip-install-b3_qq438/kaldilm_e079150f25a9457188497dd1f0dfa553/kaldilm/csrc/arpa_file_parser.cc:void kaldilm::ArpaFileParser::Read(std::istream&):140\n",
            "[I] Reading \\1-grams: section.\n",
            "/tmp/pip-install-b3_qq438/kaldilm_e079150f25a9457188497dd1f0dfa553/kaldilm/csrc/arpa_file_parser.cc:void kaldilm::ArpaFileParser::Read(std::istream&):140\n",
            "[I] Reading \\2-grams: section.\n",
            "/tmp/pip-install-b3_qq438/kaldilm_e079150f25a9457188497dd1f0dfa553/kaldilm/csrc/arpa_file_parser.cc:void kaldilm::ArpaFileParser::Read(std::istream&):140\n",
            "[I] Reading \\3-grams: section.\n"
          ]
        }
      ]
    },
    {
      "cell_type": "code",
      "source": [
        "import torch\n",
        "\n",
        "with open(\"lang/G.fst.txt\") as f:\n",
        "  G = k2.Fsa.from_openfst(f.read(), acceptor=False)\n",
        "  torch.save(G.as_dict(), \"lang/G.pt\")"
      ],
      "metadata": {
        "id": "R-QrVYJEkvc0"
      },
      "execution_count": null,
      "outputs": []
    },
    {
      "cell_type": "markdown",
      "source": [
        "## Composition & Determinization"
      ],
      "metadata": {
        "id": "tYvx47yA09uC"
      }
    },
    {
      "cell_type": "markdown",
      "source": [
        "### Composition"
      ],
      "metadata": {
        "id": "qyeP2SKY1HFL"
      }
    },
    {
      "cell_type": "code",
      "source": [
        "L = k2.arc_sort(L)\n",
        "G = k2.arc_sort(G)\n",
        "\n",
        "LG = k2.compose(L, G)\n",
        "#L_inv = L.invert()\n",
        "#L_inv = k2.arc_sort(L_inv)\n",
        "#L_inv.rename_tensor_attribute_('aux_labels', 'left_labels')\n",
        "#LG = k2.intersect(L_inv, G, treat_epsilons_specially=True)\n",
        "#LG.rename_tensor_attribute_('left_labels', 'labels')\n",
        "LG = k2.connect(LG)\n",
        "\n",
        "print(LG.shape)"
      ],
      "metadata": {
        "colab": {
          "base_uri": "https://localhost:8080/"
        },
        "id": "QFrrgXX8E5y0",
        "outputId": "e7864717-bb2b-4317-b431-7abfa1f10a8b"
      },
      "execution_count": null,
      "outputs": [
        {
          "output_type": "stream",
          "name": "stdout",
          "text": [
            "(11585797, None)\n"
          ]
        }
      ]
    },
    {
      "cell_type": "markdown",
      "source": [
        "### Determinization"
      ],
      "metadata": {
        "id": "kxyhd-oZ3SXz"
      }
    },
    {
      "cell_type": "code",
      "source": [
        "LG = k2.determinize(LG)\n",
        "LG = k2.connect(LG)\n",
        "print(LG.shape)"
      ],
      "metadata": {
        "colab": {
          "base_uri": "https://localhost:8080/"
        },
        "id": "BlNHrH1TFBfJ",
        "outputId": "8be2538d-8b97-4018-c64d-a00626282fc8"
      },
      "execution_count": null,
      "outputs": [
        {
          "output_type": "stream",
          "name": "stdout",
          "text": [
            "(6032481, None)\n"
          ]
        }
      ]
    },
    {
      "cell_type": "markdown",
      "source": [
        "### Epsilon removal"
      ],
      "metadata": {
        "id": "n0GaLACZ3UYj"
      }
    },
    {
      "cell_type": "code",
      "source": [
        "LG.labels[LG.labels >= tokens_values[\"#0\"]] = 0\n",
        "# See https://github.com/k2-fsa/k2/issues/874\n",
        "# for why we need to set LG.properties to None\n",
        "LG.__dict__[\"_properties\"] = None\n",
        "\n",
        "assert isinstance(LG.aux_labels, k2.RaggedTensor)\n",
        "LG.aux_labels.values[LG.aux_labels.values >= words_values[\"#0\"]] = 0\n",
        "\n",
        "LG = k2.remove_epsilon(LG)\n",
        "#logging.info(f\"LG shape after k2.remove_epsilon: {LG.shape}\")\n",
        "\n",
        "LG = k2.connect(LG)\n",
        "LG.aux_labels = LG.aux_labels.remove_values_eq(0)"
      ],
      "metadata": {
        "id": "Hk5YfnndFDtF"
      },
      "execution_count": null,
      "outputs": []
    },
    {
      "cell_type": "code",
      "source": [
        "print(LG.shape)"
      ],
      "metadata": {
        "colab": {
          "base_uri": "https://localhost:8080/"
        },
        "id": "xIcOqgUpFEN2",
        "outputId": "88f4b3f9-844a-4d65-ca73-95d45ed1ee8e"
      },
      "execution_count": null,
      "outputs": [
        {
          "output_type": "stream",
          "name": "stdout",
          "text": [
            "(3472138, None)\n"
          ]
        }
      ]
    },
    {
      "cell_type": "markdown",
      "source": [
        "## CLG composition"
      ],
      "metadata": {
        "id": "N7QNVYtn23e7"
      }
    },
    {
      "cell_type": "code",
      "source": [
        "torch.save(LG.as_dict(), \"lang/LG.pt\")"
      ],
      "metadata": {
        "id": "mWR8k2EOFGL4"
      },
      "execution_count": null,
      "outputs": []
    },
    {
      "cell_type": "code",
      "source": [
        "C = k2.arc_sort(C)\n",
        "LG = k2.arc_sort(LG)"
      ],
      "metadata": {
        "id": "3NkNa8hoFGer"
      },
      "execution_count": null,
      "outputs": []
    },
    {
      "cell_type": "code",
      "source": [
        "CLG = k2.compose(C, LG)\n",
        "\n",
        "CLG = k2.connect(CLG)\n",
        "\n",
        "print(CLG.shape)"
      ],
      "metadata": {
        "colab": {
          "base_uri": "https://localhost:8080/"
        },
        "id": "dEFpKKoLFIK9",
        "outputId": "a8e6e2ee-4ada-41a4-e1d5-187cbb835116"
      },
      "execution_count": null,
      "outputs": [
        {
          "output_type": "stream",
          "name": "stdout",
          "text": [
            "(6944399, None)\n"
          ]
        }
      ]
    },
    {
      "cell_type": "code",
      "source": [
        "torch.save(CLG.as_dict(), 'lang/CLG.pt')"
      ],
      "metadata": {
        "id": "nqs7W_1iFJCb"
      },
      "execution_count": null,
      "outputs": []
    },
    {
      "cell_type": "code",
      "source": [
        "import k2, torch\n",
        "CLG = k2.Fsa.from_dict(torch.load('lang/CLG.pt', map_location=\"cpu\"))"
      ],
      "metadata": {
        "id": "t77AW2f0FKiP"
      },
      "execution_count": null,
      "outputs": []
    },
    {
      "cell_type": "markdown",
      "source": [
        "## Utterance transducer"
      ],
      "metadata": {
        "id": "HhS8gqdL2_Gc"
      }
    },
    {
      "cell_type": "code",
      "source": [
        "import torch\n",
        "nnet_outputs = torch.load('logits.pt')"
      ],
      "metadata": {
        "id": "8ogqCuM8FLqp"
      },
      "execution_count": null,
      "outputs": []
    },
    {
      "cell_type": "code",
      "source": [
        "print(len(nnet_outputs))\n",
        "print(nnet_outputs[0].shape)"
      ],
      "metadata": {
        "colab": {
          "base_uri": "https://localhost:8080/"
        },
        "id": "kqQVNmLzFPdq",
        "outputId": "dd046e27-75f4-4520-ce66-9209fa3bdff3"
      },
      "execution_count": null,
      "outputs": [
        {
          "output_type": "stream",
          "name": "stdout",
          "text": [
            "2620\n",
            "torch.Size([303, 129])\n"
          ]
        }
      ]
    },
    {
      "cell_type": "code",
      "source": [
        "def rearrange_blksym(nnet_outputs):\n",
        "    nnet_t = nnet_outputs.T\n",
        "    tmp = nnet_t[1:-1]\n",
        "    tmp2 = nnet_t[-1:]\n",
        "    logits = torch.cat([tmp2, tmp])\n",
        "    logits = logits.T\n",
        "    logits = torch.tensor([logits.numpy()])\n",
        "    \n",
        "    return logits\n",
        "    "
      ],
      "metadata": {
        "id": "GGNpcqi_ZYmx"
      },
      "execution_count": null,
      "outputs": []
    },
    {
      "cell_type": "code",
      "source": [
        "logits = rearrange_blksym(nnet_outputs[0])"
      ],
      "metadata": {
        "id": "ALuq1VK0ZaNp"
      },
      "execution_count": null,
      "outputs": []
    },
    {
      "cell_type": "code",
      "source": [
        "logits.shape"
      ],
      "metadata": {
        "colab": {
          "base_uri": "https://localhost:8080/"
        },
        "id": "p5ot3zRDZbmX",
        "outputId": "d16a32cb-3741-4bd8-e8c0-2eb86c2062b7"
      },
      "execution_count": null,
      "outputs": [
        {
          "output_type": "execute_result",
          "data": {
            "text/plain": [
              "torch.Size([1, 303, 128])"
            ]
          },
          "metadata": {},
          "execution_count": 34
        }
      ]
    },
    {
      "cell_type": "code",
      "source": [
        "supervision_segments = torch.tensor([[0, 0, logits.shape[1]]], dtype=torch.int32)"
      ],
      "metadata": {
        "id": "20wYdjfsZcsn"
      },
      "execution_count": null,
      "outputs": []
    },
    {
      "cell_type": "code",
      "source": [
        "dense_fsa_vec = k2.DenseFsaVec(\n",
        "    logits,\n",
        "    supervision_segments)"
      ],
      "metadata": {
        "id": "PygimBFKZd2l"
      },
      "execution_count": null,
      "outputs": []
    },
    {
      "cell_type": "code",
      "source": [
        "lattice = k2.intersect_dense_pruned(CLG, dense_fsa_vec, 30.0, 15, 30, 1000000)"
      ],
      "metadata": {
        "id": "zveWY_IgZfMT"
      },
      "execution_count": null,
      "outputs": []
    },
    {
      "cell_type": "code",
      "source": [
        "best_path = k2.shortest_path(lattice, use_double_scores=True)"
      ],
      "metadata": {
        "id": "BEY6SeKQZgd3"
      },
      "execution_count": null,
      "outputs": []
    },
    {
      "cell_type": "code",
      "source": [
        "from utils import get_texts\n",
        "\n",
        "token_ids = get_texts(best_path)\n",
        "hyp = [[words_values[i] for i in ids] for ids in token_ids]\n",
        "print(\" \".join(hyp[0]))"
      ],
      "metadata": {
        "colab": {
          "base_uri": "https://localhost:8080/"
        },
        "id": "_aO2lD0bZhvs",
        "outputId": "910f01a8-e882-4ec0-f86a-fa15d64f611e"
      },
      "execution_count": null,
      "outputs": [
        {
          "output_type": "stream",
          "name": "stdout",
          "text": [
            "BUT ALREADY AT A POINT IN ECONOMIC EVOLUTION FAR ANTEDATING THE EMERGENCE OF THE LADY SPECIALIZED CONSUMPTION OF GOODS AS AN EVIDENCE OF PECUNIARY STRENGTH HAD BEGUN TO WORK OUT IN A MORE OR LESS ELABORATE SYSTEM\n"
          ]
        }
      ]
    },
    {
      "cell_type": "code",
      "source": [
        "token_ids"
      ],
      "metadata": {
        "colab": {
          "base_uri": "https://localhost:8080/"
        },
        "id": "ELB9vrcIZitc",
        "outputId": "a3054607-8d42-48d5-fbc7-2344dcc3074b"
      },
      "execution_count": null,
      "outputs": [
        {
          "output_type": "execute_result",
          "data": {
            "text/plain": [
              "[[122761,\n",
              "  23446,\n",
              "  50470,\n",
              "  1,\n",
              "  670655,\n",
              "  419974,\n",
              "  261938,\n",
              "  287720,\n",
              "  296545,\n",
              "  33780,\n",
              "  859565,\n",
              "  270926,\n",
              "  610141,\n",
              "  859565,\n",
              "  481892,\n",
              "  809870,\n",
              "  183281,\n",
              "  610141,\n",
              "  353265,\n",
              "  46387,\n",
              "  28596,\n",
              "  287512,\n",
              "  610141,\n",
              "  644669,\n",
              "  826186,\n",
              "  372029,\n",
              "  77209,\n",
              "  871452,\n",
              "  959809,\n",
              "  624244,\n",
              "  419974,\n",
              "  1,\n",
              "  569138,\n",
              "  617951,\n",
              "  496112,\n",
              "  266604,\n",
              "  841515]]"
            ]
          },
          "metadata": {},
          "execution_count": 40
        }
      ]
    }
  ]
}